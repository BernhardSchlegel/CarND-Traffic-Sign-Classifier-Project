{
 "cells": [
  {
   "cell_type": "markdown",
   "metadata": {},
   "source": [
    "# Self-Driving Car Engineer Nanodegree\n",
    "\n",
    "## Deep Learning\n",
    "\n",
    "## Project: Build a Traffic Sign Recognition Classifier\n",
    "\n",
    "In this notebook, a template is provided for you to implement your functionality in stages, which is required to successfully complete this project. If additional code is required that cannot be included in the notebook, be sure that the Python code is successfully imported and included in your submission if necessary. \n",
    "\n",
    "> **Note**: Once you have completed all of the code implementations, you need to finalize your work by exporting the iPython Notebook as an HTML document. Before exporting the notebook to html, all of the code cells need to have been run so that reviewers can see the final implementation and output. You can then export the notebook by using the menu above and navigating to  \\n\",\n",
    "    \"**File -> Download as -> HTML (.html)**. Include the finished document along with this notebook as your submission. \n",
    "\n",
    "In addition to implementing code, there is a writeup to complete. The writeup should be completed in a separate file, which can be either a markdown file or a pdf document. There is a [write up template](https://github.com/udacity/CarND-Traffic-Sign-Classifier-Project/blob/master/writeup_template.md) that can be used to guide the writing process. Completing the code template and writeup template will cover all of the [rubric points](https://review.udacity.com/#!/rubrics/481/view) for this project.\n",
    "\n",
    "The [rubric](https://review.udacity.com/#!/rubrics/481/view) contains \"Stand Out Suggestions\" for enhancing the project beyond the minimum requirements. The stand out suggestions are optional. If you decide to pursue the \"stand out suggestions\", you can include the code in this Ipython notebook and also discuss the results in the writeup file.\n",
    "\n",
    "\n",
    ">**Note:** Code and Markdown cells can be executed using the **Shift + Enter** keyboard shortcut. In addition, Markdown cells can be edited by typically double-clicking the cell to enter edit mode."
   ]
  },
  {
   "cell_type": "markdown",
   "metadata": {},
   "source": [
    "---\n",
    "## Step -1: Preparations\n",
    "\n",
    "### Launching on AWS EC2 and other preparations\n",
    "\n",
    "- go to [console](https://us-east-2.console.aws.amazon.com/ec2/v2/home?region=us-east-2#)\n",
    "- Click on \"Launch instance\"\n",
    "- Select community and select \"udacity-carnd\"\n",
    "- Filter gy \"GPU graphics\"\n",
    "- Edit security group. Add rule to allow connections to port 8888. Type: \"Custom TCP Rule\", Protocol \"TCP\", Port Range \"8888\", \n",
    "  Source \"Anywhere\" (leave the \"0.0.0.0/0\")\n",
    "- Edit security group to enable SSH (add SSH rule)\n",
    "- Click launch instance, select \"Proceed without a key pair\" and acknowledge that you know the password (carnd) and user (carnd)\n",
    "- Wait for instance to pass. Copy IP-Adress\n",
    "- ssh instance\n",
    "- `source activate carnd-term1`\n",
    "- Clone LeNetLab `git clone https://github.com/BernhardSchlegel/CarND-Traffic-Sign-Classifier-Project`\n",
    "- cd into folder, `mkdir traffic-signs-data` and `cd traffic-signs-data`\n",
    "- Download and unzip traffic sign dataset `wget https://d17h27t6h515a5.cloudfront.net/topher/2017/February/5898cd6f_traffic-signs-data/traffic-signs-data.zip`, followed by `unzip traffic-signs-data.zip` or click [here](https://d17h27t6h515a5.cloudfront.net/topher/2017/February/5898cd6f_traffic-signs-data/traffic-signs-data.zip).\n",
    "- Move folder up `cd ..` and start jupyter notebook `jupyter notebook`\n",
    "\n",
    "### If you're on a GPU system\n",
    "- Install GPU support as described [here](https://www.tensorflow.org/install/#optional_install_cuda_gpus_on_linux)\n",
    "- Execute `pip install tensorflow-gpu`\n",
    "\n",
    "### Installing OpenCV\n",
    "\n",
    "easy `conda install --channel https://conda.anaconda.org/menpo opencv3`\n",
    "\n",
    "hard: \n",
    "\n",
    "    sudo apt-get -y update\n",
    "    sudo apt-get -y upgrade\n",
    "    sudo apt-get -y install build-essential cmake git pkg-config\n",
    "    sudo apt-get -y install libjpeg8-dev libtiff5-dev libjasper-dev libpng12-dev libavcodec-dev libavformat-dev libswscale-dev libv4l-dev\n",
    "    sudo apt-get -y install libgtk2.0-dev\n",
    "    sudo apt-get -y install libatlas-base-dev gfortran\n",
    "    cd ~\n",
    "    git clone https://github.com/Itseez/opencv.git\n",
    "    cd opencv\n",
    "    git checkout 3.2.0\n",
    "    cd ~\n",
    "    git clone https://github.com/Itseez/opencv_contrib.git\n",
    "    cd opencv_contrib\n",
    "    git checkout 3.2.0\n",
    "    cd ~/opencv\n",
    "    mkdir build\n",
    "    cd build\n",
    "    cmake -D CMAKE_BUILD_TYPE=RELEASE \\\n",
    "        -D CMAKE_INSTALL_PREFIX=/usr/local \\\n",
    "        -D INSTALL_C_EXAMPLES=ON \\\n",
    "        -D INSTALL_PYTHON_EXAMPLES=ON \\\n",
    "        -D OPENCV_EXTRA_MODULES_PATH=~/opencv_contrib/modules \\\n",
    "        -D BUILD_EXAMPLES=ON ..\n",
    "    make -j8\n",
    "    sudo make install\n",
    "    sudo ldconfig\n",
    "    cd ~/.virtualenvs/cv/lib/python3.5/site-packages/\n",
    "    ln -s /usr/local/lib/python3.5/site-packages/cv2.cpython-34m.so cv2.so"
   ]
  },
  {
   "cell_type": "code",
   "execution_count": 1,
   "metadata": {
    "collapsed": true
   },
   "outputs": [],
   "source": [
    "import time\n",
    "# define Log function\n",
    "def log(text):\n",
    "    print(time.strftime('%Y.%m.%d, %H:%M:%S') + ': ' + text)\n",
    "    \n",
    "def ping():\n",
    "    return datetime.datetime.now()\n",
    "\n",
    "def pong(dt):\n",
    "    now = datetime.datetime.now()\n",
    "    diff = now - dt\n",
    "    ms = round(diff.total_seconds()*1000)\n",
    "    return ms\n"
   ]
  },
  {
   "cell_type": "markdown",
   "metadata": {},
   "source": [
    "---\n",
    "## Step 0: Load The Data"
   ]
  },
  {
   "cell_type": "code",
   "execution_count": 2,
   "metadata": {
    "collapsed": true
   },
   "outputs": [],
   "source": [
    "import os\n",
    "\n",
    "# to save time after notebook reset, save and load data\n",
    "def save_data():\n",
    "    \n",
    "    directory = \"processed\"\n",
    "    \n",
    "    if not os.path.exists(directory):\n",
    "        os.makedirs(directory)\n",
    "    \n",
    "    np.save(\"processed/X_train\", X_train)\n",
    "    np.save(\"processed/y_train\", y_train)\n",
    "    np.save(\"processed/X_valid\", X_valid)\n",
    "    np.save(\"processed/y_valid\", y_valid)\n",
    "    np.save(\"processed/X_test_prep\", X_test_prep)\n",
    "    np.save(\"processed/y_test\", y_test)\n",
    "    \n",
    "def load_data():\n",
    "    global X_train\n",
    "    global y_train\n",
    "    global X_valid\n",
    "    global y_valid\n",
    "    global X_test_prep\n",
    "    global y_test\n",
    "    \n",
    "    directory = \"processed\"\n",
    "    \n",
    "    if os.path.exists(directory):    \n",
    "        X_train = np.load(\"processed/X_train.npy\")\n",
    "        y_train = np.load(\"processed/y_train.npy\")\n",
    "        X_valid = np.load(\"processed/X_valid.npy\")\n",
    "        y_valid = np.load(\"processed/y_valid.npy\")\n",
    "        X_test_prep = np.load(\"processed/X_test_prep.npy\")\n",
    "        y_test = np.load(\"processed/y_test.npy\")"
   ]
  },
  {
   "cell_type": "code",
   "execution_count": 3,
   "metadata": {
    "collapsed": true
   },
   "outputs": [],
   "source": [
    "# Load pickled data\n",
    "import pickle\n",
    "\n",
    "training_file =  'traffic-signs-data/train.p'\n",
    "validation_file= 'traffic-signs-data/valid.p'\n",
    "testing_file =   'traffic-signs-data/test.p'\n",
    "\n",
    "with open(training_file, mode='rb') as f:\n",
    "    train = pickle.load(f)\n",
    "with open(validation_file, mode='rb') as f:\n",
    "    valid = pickle.load(f)\n",
    "with open(testing_file, mode='rb') as f:\n",
    "    test = pickle.load(f)\n",
    "    \n",
    "X_train, y_train = train['features'], train['labels']\n",
    "X_valid, y_valid = valid['features'], valid['labels']\n",
    "X_test, y_test = test['features'], test['labels']"
   ]
  },
  {
   "cell_type": "markdown",
   "metadata": {},
   "source": [
    "---\n",
    "\n",
    "## Step 1: Dataset Summary & Exploration\n",
    "\n",
    "The pickled data is a dictionary with 4 key/value pairs:\n",
    "\n",
    "- `'features'` is a 4D array containing raw pixel data of the traffic sign images, (num examples, width, height, channels).\n",
    "- `'labels'` is a 1D array containing the label/class id of the traffic sign. The file `signnames.csv` contains id -> name mappings for each id.\n",
    "- `'sizes'` is a list containing tuples, (width, height) representing the original width and height the image.\n",
    "- `'coords'` is a list containing tuples, (x1, y1, x2, y2) representing coordinates of a bounding box around the sign in the image. **THESE COORDINATES ASSUME THE ORIGINAL IMAGE. THE PICKLED DATA CONTAINS RESIZED VERSIONS (32 by 32) OF THESE IMAGES**\n",
    "\n",
    "Complete the basic data summary below. Use python, numpy and/or pandas methods to calculate the data summary rather than hard coding the results. For example, the [pandas shape method](http://pandas.pydata.org/pandas-docs/stable/generated/pandas.DataFrame.shape.html) might be useful for calculating some of the summary results. "
   ]
  },
  {
   "cell_type": "markdown",
   "metadata": {},
   "source": [
    "### Provide a Basic Summary of the Data Set Using Python, Numpy and/or Pandas"
   ]
  },
  {
   "cell_type": "code",
   "execution_count": 4,
   "metadata": {},
   "outputs": [
    {
     "name": "stdout",
     "output_type": "stream",
     "text": [
      "2017.09.01, 14:19:55: Number of training examples =34799\n",
      "2017.09.01, 14:19:55: Number of testing examples =12630\n",
      "2017.09.01, 14:19:55: Number of validation examples =4410\n",
      "2017.09.01, 14:19:55: Image data shape =(32, 32, 3)\n",
      "2017.09.01, 14:19:55: Number of classes =43\n"
     ]
    }
   ],
   "source": [
    "import numpy as np\n",
    "### Replace each question mark with the appropriate value. \n",
    "### Use python, pandas or numpy methods rather than hard coding the results\n",
    "\n",
    "# TODO: Number of training examples\n",
    "n_train = len(X_train)\n",
    "\n",
    "# TODO: Number of validation examples\n",
    "n_validation = len(X_valid)\n",
    "\n",
    "# TODO: Number of testing examples.\n",
    "n_test = len(X_test)\n",
    "\n",
    "# TODO: What's the shape of an traffic sign image?\n",
    "image_shape = X_train[0].shape\n",
    "\n",
    "# TODO: How many unique classes/labels there are in the dataset.\n",
    "classes, class_indices, class_counts = np.unique(y_train, return_index = True, return_counts = True)\n",
    "n_classes = len(classes)\n",
    "log(\"Number of training examples ={}\".format(n_train))\n",
    "log(\"Number of testing examples ={}\".format(n_test))\n",
    "log(\"Number of validation examples ={}\".format(n_validation))\n",
    "log(\"Image data shape ={}\".format(image_shape))\n",
    "log(\"Number of classes ={}\".format(n_classes))\n",
    "\n",
    "assert(len(X_train) == len(y_train))\n",
    "assert(len(X_valid) == len(y_valid))\n",
    "assert(len(X_test) == len(y_test))"
   ]
  },
  {
   "cell_type": "markdown",
   "metadata": {},
   "source": [
    "### Include an exploratory visualization of the dataset"
   ]
  },
  {
   "cell_type": "markdown",
   "metadata": {},
   "source": [
    "Visualize the German Traffic Signs Dataset using the pickled file(s). This is open ended, suggestions include: plotting traffic sign images, plotting the count of each sign, etc. \n",
    "\n",
    "The [Matplotlib](http://matplotlib.org/) [examples](http://matplotlib.org/examples/index.html) and [gallery](http://matplotlib.org/gallery.html) pages are a great resource for doing visualizations in Python.\n",
    "\n",
    "**NOTE:** It's recommended you start with something simple first. If you wish to do more, come back to it after you've completed the rest of the sections. It can be interesting to look at the distribution of classes in the training, validation and test set. Is the distribution the same? Are there more examples of some classes than others?"
   ]
  },
  {
   "cell_type": "code",
   "execution_count": 5,
   "metadata": {
    "collapsed": true
   },
   "outputs": [],
   "source": [
    "import pandas as pd\n",
    "signnames = pd.DataFrame.from_csv('signnames.csv', index_col=None)\n",
    "def get_sign_name(sign_number):\n",
    "    return signnames[signnames['ClassId'] == sign_number].iloc[0,1]"
   ]
  },
  {
   "cell_type": "code",
   "execution_count": 6,
   "metadata": {
    "collapsed": true
   },
   "outputs": [],
   "source": [
    "### Data exploration visualization code goes here.\n",
    "### Feel free to use as many code cells as needed.\n",
    "import matplotlib.pyplot as plt\n",
    "# Visualizations will be shown in the notebook.\n",
    "%matplotlib inline"
   ]
  },
  {
   "cell_type": "code",
   "execution_count": 7,
   "metadata": {},
   "outputs": [
    {
     "data": {
      "image/png": "[encoded data removed]",
      "text/plain": [
       "<matplotlib.figure.Figure at 0x7fddf8409400>"
      ]
     },
     "metadata": {},
     "output_type": "display_data"
    }
   ],
   "source": [
    "# plot class distributio\n",
    "def plot_class_counts(class_counts, heading = \"dataset\"):\n",
    "    plt.bar( np.arange( 43 ), class_counts, align='center' )\n",
    "    plt.xlabel('Class')\n",
    "    #plt.xlabel(np.array(signnames['SignName']), rotation = 90)\n",
    "    plt.ylabel('Number of training examples')\n",
    "    plt.xlim([-1, 43])\n",
    "    plt.title(heading)\n",
    "    plt.show()\n",
    "    \n",
    "plot_class_counts(class_counts, heading = \"dataset\")"
   ]
  },
  {
   "cell_type": "code",
   "execution_count": 8,
   "metadata": {
    "collapsed": true
   },
   "outputs": [],
   "source": [
    "import random\n",
    "import numpy as np\n",
    "import matplotlib.pyplot as plt\n",
    "%matplotlib inline\n",
    "\n",
    "def plot_image(img):\n",
    "    plt.figure(figsize=(1,1))\n",
    "    plt.imshow(img.squeeze(), cmap=\"gray\")\n",
    "\n",
    "idx = None # ensure same images to show after each step\n",
    "def plot_images_for_class(X_train, y_train, mode = 'random', max_classes = 3, n_per_class = 5):\n",
    "    global idx\n",
    "    global n_classes\n",
    "    \n",
    "    for i in classes:\n",
    "        if i >= max_classes:\n",
    "            break       \n",
    "\n",
    "        log('--------------------------------------------------------------')\n",
    "        log('Examples for class {}, \\\"{}\\\" ({} samples)'.format(i, get_sign_name(i), class_counts[i]))\n",
    "\n",
    "        # get 5 random indices\n",
    "        X_train_class = X_train[y_train == i]\n",
    "\n",
    "        if mode is 'random':\n",
    "            if idx is None:\n",
    "                idx = np.random.randint(X_train_class.shape[0], size=n_per_class)\n",
    "            X_sub = X_train_class[idx]\n",
    "        elif mode is 'deterministic':\n",
    "            if X_train_class.shape[0] < n_per_class:\n",
    "                n_classes = X_train_class.shape[0]\n",
    "            X_sub = X_train_class[0:n_per_class]\n",
    "\n",
    "        fig, axs = plt.subplots(nrows=1, ncols=n_per_class)\n",
    "\n",
    "        for j in range(0,n_per_class):\n",
    "            image = X_sub[j].squeeze()\n",
    "\n",
    "            axs[j].imshow(image, cmap=\"gray\")\n",
    "\n",
    "        plt.show()"
   ]
  },
  {
   "cell_type": "code",
   "execution_count": 9,
   "metadata": {
    "scrolled": true
   },
   "outputs": [
    {
     "name": "stdout",
     "output_type": "stream",
     "text": [
      "2017.09.01, 14:20:07: --------------------------------------------------------------\n",
      "2017.09.01, 14:20:07: Examples for class 0, \"Speed limit (20km/h)\" (180 samples)\n"
     ]
    },
    {
     "data": {
      "image/png": "[encoded data removed]",
      "text/plain": [
       "<matplotlib.figure.Figure at 0x7fddf84093c8>"
      ]
     },
     "metadata": {},
     "output_type": "display_data"
    },
    {
     "name": "stdout",
     "output_type": "stream",
     "text": [
      "2017.09.01, 14:20:08: --------------------------------------------------------------\n",
      "2017.09.01, 14:20:08: Examples for class 1, \"Speed limit (30km/h)\" (1980 samples)\n"
     ]
    },
    {
     "data": {
      "image/png": "[encoded data removed]",
      "text/plain": [
       "<matplotlib.figure.Figure at 0x7fddc12a1208>"
      ]
     },
     "metadata": {},
     "output_type": "display_data"
    },
    {
     "name": "stdout",
     "output_type": "stream",
     "text": [
      "2017.09.01, 14:20:08: --------------------------------------------------------------\n",
      "2017.09.01, 14:20:08: Examples for class 2, \"Speed limit (50km/h)\" (2010 samples)\n"
     ]
    },
    {
     "data": {
      "image/png": "[encoded data removed]",
      "text/plain": [
       "<matplotlib.figure.Figure at 0x7fddc10031d0>"
      ]
     },
     "metadata": {},
     "output_type": "display_data"
    }
   ],
   "source": [
    "plot_images_for_class(X_train, y_train, max_classes = 3)"
   ]
  },
  {
   "cell_type": "code",
   "execution_count": 10,
   "metadata": {
    "collapsed": true
   },
   "outputs": [],
   "source": [
    "# image_num, flip_x, flip_y, flip_xy, new class after transformation (-1 new = old)\n",
    "augmentables = [\n",
    "    [0, 0, 0, 0, -1],   # class Speed limit (20km/h)\n",
    "    [1, 0, 0, 0, -1],   # class Speed limit (30km/h)\n",
    "    [2, 0, 0, 0, -1],   # class Speed limit (50km/h)\n",
    "    [3, 0, 0, 0, -1],   # class Speed limit (60km/h)\n",
    "    [4, 0, 0, 0, -1],   # class Speed limit (70km/h)\n",
    "    [5, 0, 0, 0, -1],   # class Speed limit (80km/h)\n",
    "    [6, 0, 0, 0, -1],   # class End of speed limit (80km/h)\n",
    "    [7, 0, 0, 0, -1],   # class Speed limit (100km/h)\n",
    "    [8, 0, 0, 0, -1],   # class Speed limit (120km/h)\n",
    "    [9, 1, 0, 0, -1],   # class No passing\n",
    "    [10, 0, 0, 0, -1],  # class No passing for vehicles over 3.5 metric tons\n",
    "    [11, 1, 0, 0, -1],  # class Right-of-way at the next intersection\n",
    "    [12, 1, 1, 1, -1],  # class Priority road\n",
    "    [13, 1, 0, 0, -1],  # class Yield\n",
    "    [14, 0, 0, 0, -1],  # class Stop\n",
    "    [15, 1, 1, 1, -1],  # class No vehicles\n",
    "    [16, 0, 0, 0, -1],  # class Vehicles over 3.5 metric tons prohibited\n",
    "    [17, 1, 1, 1, -1],  # class No entry\n",
    "    [18, 1, 0, 0, -1],  # class General caution\n",
    "    [19, 1, 0, 0, 20],  # class Dangerous curve to the left\n",
    "    [20, 1, 0, 0, 19],  # class Dangerous curve to the right\n",
    "    [21, 0, 0, 0, -1],  # class Double curve\n",
    "    [22, 1, 0, 0, -1],  # class Bumpy road\n",
    "    [23, 0, 0, 0, -1],  # class Slippery road\n",
    "    [24, 0, 0, 0, -1],  # class Road narrows on the right\n",
    "    [25, 0, 0, 0, -1],  # class Road work\n",
    "    [26, 1, 0, 0, -1],  # class Traffic signals\n",
    "    [27, 0, 0, 0, -1],  # class Pedestrians\n",
    "    [28, 0, 0, 0, -1],  # class Children crossing\n",
    "    [29, 0, 0, 0, -1],  # class Bicycles crossing\n",
    "    [30, 1, 0, 0, -1],  # class Beware of ice/snow\n",
    "    [31, 0, 0, 0, -1],  # class Wild animals crossing\n",
    "    [32, 0, 0, 1, -1],  # class End of all speed and passing limits\n",
    "    [33, 1, 0, 0, 34],  # class Turn right ahead\n",
    "    [34, 1, 0, 0, 33],  # class Turn left ahead\n",
    "    [35, 1, 0, 0, -1],  # class Ahead only\n",
    "    [36, 1, 0, 0, 37],  # class Go straight or right\n",
    "    [37, 1, 0, 0, 36],  # class Go straight or left\n",
    "    [38, 1, 0, 0, 39],  # class Keep right\n",
    "    [39, 1, 0, 0, 38],  # class Keep left\n",
    "    [40, 0, 0, 0, -1],  # class Roundabout mandatory\n",
    "    [41, 0, 0, 0, -1],  # class End of no passing\n",
    "    [42, 0, 0, 0, -1]   # class End of no passing by vehicles over 3.5 metric tons\n",
    "]"
   ]
  },
  {
   "cell_type": "code",
   "execution_count": 11,
   "metadata": {
    "collapsed": true
   },
   "outputs": [],
   "source": [
    "from skimage.transform import warp\n",
    "from skimage.transform import rotate\n",
    "from skimage.transform import rescale\n",
    "from skimage.transform import ProjectiveTransform\n",
    "import cv2\n",
    "\n",
    "def flip_X(img):\n",
    "    return img.copy()[:, ::-1]\n",
    "\n",
    "def flip_Y(img):\n",
    "    return img.copy()[::-1, :]\n",
    "\n",
    "def augment_by_flipping(X, y):\n",
    "    # augment as much as possible\n",
    "    X_augmented = []\n",
    "    y_augmented = []\n",
    "    \n",
    "    for image_num, flip_x, flip_y, flip_xy, new_class in augmentables: \n",
    "        X_sub_image = X[y == image_num]\n",
    "        n_images_of_class = X_sub_image.shape[0]\n",
    "        if (flip_x + flip_y + flip_xy) > 0:\n",
    "            log(\"found {} images of class {}. Applying: flip_x={}, flip_y={}, flip_xy={}\".format(\n",
    "                n_images_of_class, image_num, flip_x, flip_y, flip_xy))\n",
    "\n",
    "            counter = 0\n",
    "            for image in X_sub_image:\n",
    "                if new_class is -1:\n",
    "                    new_class = image_num\n",
    "\n",
    "                if flip_x > 0:\n",
    "                    X_augmented.append(flip_X(image))\n",
    "                    y_augmented.append(new_class)\n",
    "                    counter += 1\n",
    "\n",
    "                if flip_y > 0:\n",
    "                    X_augmented.append(flip_Y(image))\n",
    "                    y_augmented.append(new_class)\n",
    "                    counter += 1\n",
    "\n",
    "                if flip_xy > 0:\n",
    "                    image = flip_Y(image)\n",
    "                    X_augmented.append(flip_X(image))\n",
    "                    y_augmented.append(new_class)\n",
    "                    counter += 1\n",
    "\n",
    "            log(\"created {} artificial samples.\".format(counter))\n",
    "        else:\n",
    "            log(\"class {} not transformable\".format(image_num))\n",
    "\n",
    "    return np.array(X_augmented), y_augmented\n",
    "\n",
    "\n",
    "\n",
    "def modify_warp(img, intensity = 0.25, depth_layer = 0):\n",
    "    rows,cols,ch = img.shape\n",
    "    \n",
    "    assert len(img.shape) is 3, \"this method only works for images with a depth channel\"\n",
    "    assert ch is 1, \"this method only works for images with one channel\"\n",
    "    \n",
    "    img_shape_x, img_shape_y, depth = img.shape\n",
    "    p1_left_x = int(img_shape_x * intensity)\n",
    "    p1_right_x = int(img_shape_x * ( 1 - intensity))\n",
    "    p1_top_y = int(img_shape_y * intensity)\n",
    "    p1_bot_y = int(img_shape_y * ( 1 - intensity))\n",
    "    p2_left_x = int(img_shape_x * intensity) \n",
    "    p2_right_x = int(img_shape_x * ( 1 - intensity))\n",
    "    p2_top_y = int(img_shape_y * intensity)\n",
    "    p2_bot_y = int(img_shape_y * ( 1 - intensity))\n",
    "\n",
    "    # points in array are numbered like follows\n",
    "    #  1. 3.   \n",
    "    #  2. 4.\n",
    "    pts1 = np.float32([[p1_left_x, p1_top_y], [p1_left_x, p1_bot_y], [p1_right_x, p1_top_y], [p1_right_x, p1_bot_y]])\n",
    "    pts2 = np.float32([[p1_left_x - random.uniform(0, p1_left_x) , p1_top_y - random.uniform(0, p1_top_y)], \n",
    "                       [p1_left_x - random.uniform(0, p1_left_x) , p1_bot_y + random.uniform(0, img_shape_y - p1_bot_y)], \n",
    "                       [p1_right_x + random.uniform(0, img_shape_x - p1_right_x) , p1_top_y - random.uniform(0, p1_top_y)], \n",
    "                       [p1_right_x + random.uniform(0, img_shape_x - p1_right_x), p1_bot_y + random.uniform(0, img_shape_y - p1_bot_y)]])\n",
    "\n",
    "    M = cv2.getPerspectiveTransform(pts1,pts2)\n",
    "    dst = np.ones(shape = [32,32,1])\n",
    "    dst[:,:,depth_layer] = np.array(cv2.warpPerspective(img,M,(img_shape_y,img_shape_x)))\n",
    "\n",
    "    return dst\n",
    "\n",
    "\n",
    "def augment_by_transforming(X, y, class_counts, intensity = 0.2, min_multiplier = 1, debug = False):\n",
    "    \"\"\"\n",
    "    This function will modify each class count so that every class is present \n",
    "    number of times of the most present class times the min_multiplier\n",
    "    \"\"\"\n",
    "    \n",
    "    X_augmented = []\n",
    "    y_augmented = []\n",
    "    \n",
    "    n_idx_max = np.argmax(class_counts)\n",
    "    n_max = class_counts[n_idx_max]\n",
    "    target_samples = n_max * min_multiplier\n",
    "    log(\"class {} ({}) is the maximally represented class (samples={}). Target samples for each class={}\".format(\n",
    "        n_idx_max, get_sign_name(n_idx_max), n_max, target_samples))\n",
    "    \n",
    "    for class_num in range(len(class_counts)):\n",
    "        X_sub_image = X[y == class_num]\n",
    "        n_class = class_counts[class_num]\n",
    "        oversampling_ratio = target_samples / n_class\n",
    "        samples_to_create = int(oversampling_ratio * n_class) - n_class\n",
    "        log(\"class {0} is present {1} times. Oversampling ratio is {2:.3}. Samples to create={3}.\".format(\n",
    "                class_num, n_class, oversampling_ratio, samples_to_create))\n",
    "        \n",
    "        n_generated = 0\n",
    "        while n_generated < samples_to_create:\n",
    "            # iterate through class instances\n",
    "            image = X_sub_image[n_generated%class_counts[class_num]]\n",
    "            \n",
    "            # add to arrray (X and y)\n",
    "            X_augmented.append(modify_warp(image, intensity = intensity))\n",
    "            y_augmented.append(class_num)\n",
    "            \n",
    "            n_generated += 1\n",
    "            if int(n_generated % (samples_to_create / 10)) is 0 and debug is True:\n",
    "                log('generating {} / {} sample. '.format(n_generated, samples_to_create))\n",
    "            #else:\n",
    "              #  log('## {} / {}'.format(n_generated, samples_to_create))\n",
    "        \n",
    "    return np.array(X_augmented), y_augmented"
   ]
  },
  {
   "cell_type": "code",
   "execution_count": 12,
   "metadata": {
    "collapsed": true
   },
   "outputs": [],
   "source": [
    "def augment_dataset(X, y):\n",
    "    # before\n",
    "    classes, class_indices, class_counts = np.unique(y, return_index = True, return_counts = True)\n",
    "    plot_class_counts(class_counts, \"dataset original\")\n",
    "\n",
    "    # augment by flipping\n",
    "    X_flipped, y_flipped = augment_by_flipping(X, y)\n",
    "    log(\"created {} new samples by flipping.\".format(X_flipped.shape[0]))\n",
    "    X_train_augmented = np.append(X, X_flipped, axis = 0)\n",
    "    y_train_augmented = np.append(y, y_flipped, axis = 0)\n",
    "    classes, class_indices, class_counts = np.unique(y_train_augmented, return_index = True, return_counts = True)\n",
    "    plot_class_counts(class_counts)\n",
    "\n",
    "    # augment by transforming\n",
    "    X_transformed, y_transformed = augment_by_transforming(X_train_augmented, y_train_augmented, class_counts, intensity = 0.1)\n",
    "    log(\"created {} new samples by transforming.\".format(X_transformed.shape[0] - X_train_augmented.shape[0]))\n",
    "    X_train_augmented = np.append(X_train_augmented, X_transformed, axis = 0)\n",
    "    y_train_augmented = np.append(y_train_augmented, y_transformed, axis = 0)\n",
    "    classes, class_indices, class_counts = np.unique(y_train_augmented, return_index = True, return_counts = True)\n",
    "    plot_class_counts(class_counts, \"dataset original\")\n",
    "    \n",
    "    return X_train_augmented, y_train_augmented"
   ]
  },
  {
   "cell_type": "markdown",
   "metadata": {},
   "source": [
    "----\n",
    "\n",
    "## Step 2: Design and Test a Model Architecture\n",
    "\n",
    "Design and implement a deep learning model that learns to recognize traffic signs. Train and test your model on the [German Traffic Sign Dataset](http://benchmark.ini.rub.de/?section=gtsrb&subsection=dataset).\n",
    "\n",
    "The LeNet-5 implementation shown in the [classroom](https://classroom.udacity.com/nanodegrees/nd013/parts/fbf77062-5703-404e-b60c-95b78b2f3f9e/modules/6df7ae49-c61c-4bb2-a23e-6527e69209ec/lessons/601ae704-1035-4287-8b11-e2c2716217ad/concepts/d4aca031-508f-4e0b-b493-e7b706120f81) at the end of the CNN lesson is a solid starting point. You'll have to change the number of classes and possibly the preprocessing, but aside from that it's plug and play! \n",
    "\n",
    "With the LeNet-5 solution from the lecture, you should expect a validation set accuracy of about 0.89. To meet specifications, the validation set accuracy will need to be at least 0.93. It is possible to get an even higher accuracy, but 0.93 is the minimum for a successful project submission. \n",
    "\n",
    "There are various aspects to consider when thinking about this problem:\n",
    "\n",
    "- Neural network architecture (is the network over or underfitting?)\n",
    "- Play around preprocessing techniques (normalization, rgb to grayscale, etc)\n",
    "- Number of examples per label (some have more than others).\n",
    "- Generate fake data.\n",
    "\n",
    "Here is an example of a [published baseline model on this problem](http://yann.lecun.com/exdb/publis/pdf/sermanet-ijcnn-11.pdf). It's not required to be familiar with the approach used in the paper but, it's good practice to try to read papers like these."
   ]
  },
  {
   "cell_type": "markdown",
   "metadata": {},
   "source": [
    "### Pre-process the Data Set (normalization, grayscale, etc.)"
   ]
  },
  {
   "cell_type": "markdown",
   "metadata": {},
   "source": [
    "Minimally, the image data should be normalized so that the data has mean zero and equal variance. For image data, `(pixel - 128)/ 128` is a quick way to approximately normalize the data and can be used in this project. \n",
    "\n",
    "Other pre-processing steps are optional. You can try different techniques to see if it improves performance. \n",
    "\n",
    "Use the code cell (or multiple code cells, if necessary) to implement the first step of your project."
   ]
  },
  {
   "cell_type": "code",
   "execution_count": 13,
   "metadata": {
    "collapsed": true
   },
   "outputs": [],
   "source": [
    "from skimage import exposure\n",
    "import sklearn.preprocessing as pp\n",
    "\n",
    "def rgb2gray(rgb):\n",
    "    new = np.empty([rgb.shape[0], rgb.shape[1], rgb.shape[2], 1])\n",
    "    new[:,:,:,0] = np.dot(rgb[...,:3], [0.299, 0.587, 0.114])\n",
    "    return new"
   ]
  },
  {
   "cell_type": "code",
   "execution_count": 14,
   "metadata": {
    "collapsed": true
   },
   "outputs": [],
   "source": [
    "def preprocess_images(X, do_hist = True):\n",
    "    # grayscale\n",
    "    X = rgb2gray(X)\n",
    "    \n",
    "    # normalize\n",
    "    X =  X = (X / 255.).astype(np.float32)\n",
    "\n",
    "    # histogram localication\n",
    "    if do_hist:\n",
    "        for i in range(X.shape[0]):\n",
    "            X[i,:,:,0] = exposure.equalize_adapthist(X[i,:,:,0])\n",
    "        \n",
    "    return X"
   ]
  },
  {
   "cell_type": "code",
   "execution_count": 15,
   "metadata": {},
   "outputs": [
    {
     "name": "stdout",
     "output_type": "stream",
     "text": [
      "2017.09.01, 14:20:19: processing training\n"
     ]
    },
    {
     "name": "stderr",
     "output_type": "stream",
     "text": [
      "/home/q372283/anaconda3/lib/python3.5/site-packages/skimage/util/dtype.py:122: UserWarning: Possible precision loss when converting from float32 to uint16\n",
      "  .format(dtypeobj_in, dtypeobj_out))\n"
     ]
    }
   ],
   "source": [
    "log('processing training')\n",
    "X_train = preprocess_images(X_train, do_hist=True)"
   ]
  },
  {
   "cell_type": "code",
   "execution_count": 16,
   "metadata": {},
   "outputs": [
    {
     "name": "stdout",
     "output_type": "stream",
     "text": [
      "2017.09.01, 14:24:57: processing validation\n"
     ]
    },
    {
     "name": "stderr",
     "output_type": "stream",
     "text": [
      "/home/q372283/anaconda3/lib/python3.5/site-packages/skimage/util/dtype.py:122: UserWarning: Possible precision loss when converting from float32 to uint16\n",
      "  .format(dtypeobj_in, dtypeobj_out))\n"
     ]
    }
   ],
   "source": [
    "log('processing validation')\n",
    "X_valid = preprocess_images(X_valid, do_hist=True)"
   ]
  },
  {
   "cell_type": "code",
   "execution_count": 17,
   "metadata": {},
   "outputs": [
    {
     "name": "stdout",
     "output_type": "stream",
     "text": [
      "2017.09.01, 14:25:32: augmenting train\n"
     ]
    },
    {
     "data": {
      "image/png": "[encoded data removed]",
      "text/plain": [
       "<matplotlib.figure.Figure at 0x7fddc12a1940>"
      ]
     },
     "metadata": {},
     "output_type": "display_data"
    },
    {
     "name": "stdout",
     "output_type": "stream",
     "text": [
      "2017.09.01, 14:25:32: class 0 not transformable\n",
      "2017.09.01, 14:25:32: class 1 not transformable\n",
      "2017.09.01, 14:25:32: class 2 not transformable\n",
      "2017.09.01, 14:25:32: class 3 not transformable\n",
      "2017.09.01, 14:25:32: class 4 not transformable\n",
      "2017.09.01, 14:25:32: class 5 not transformable\n",
      "2017.09.01, 14:25:32: class 6 not transformable\n",
      "2017.09.01, 14:25:32: class 7 not transformable\n",
      "2017.09.01, 14:25:32: class 8 not transformable\n",
      "2017.09.01, 14:25:32: found 1320 images of class 9. Applying: flip_x=1, flip_y=0, flip_xy=0\n",
      "2017.09.01, 14:25:32: created 1320 artificial samples.\n",
      "2017.09.01, 14:25:32: class 10 not transformable\n",
      "2017.09.01, 14:25:32: found 1170 images of class 11. Applying: flip_x=1, flip_y=0, flip_xy=0\n",
      "2017.09.01, 14:25:32: created 1170 artificial samples.\n",
      "2017.09.01, 14:25:32: found 1890 images of class 12. Applying: flip_x=1, flip_y=1, flip_xy=1\n",
      "2017.09.01, 14:25:32: created 5670 artificial samples.\n",
      "2017.09.01, 14:25:32: found 1920 images of class 13. Applying: flip_x=1, flip_y=0, flip_xy=0\n",
      "2017.09.01, 14:25:32: created 1920 artificial samples.\n",
      "2017.09.01, 14:25:32: class 14 not transformable\n",
      "2017.09.01, 14:25:32: found 540 images of class 15. Applying: flip_x=1, flip_y=1, flip_xy=1\n",
      "2017.09.01, 14:25:32: created 1620 artificial samples.\n",
      "2017.09.01, 14:25:32: class 16 not transformable\n",
      "2017.09.01, 14:25:32: found 990 images of class 17. Applying: flip_x=1, flip_y=1, flip_xy=1\n",
      "2017.09.01, 14:25:32: created 2970 artificial samples.\n",
      "2017.09.01, 14:25:32: found 1080 images of class 18. Applying: flip_x=1, flip_y=0, flip_xy=0\n",
      "2017.09.01, 14:25:32: created 1080 artificial samples.\n",
      "2017.09.01, 14:25:32: found 180 images of class 19. Applying: flip_x=1, flip_y=0, flip_xy=0\n",
      "2017.09.01, 14:25:32: created 180 artificial samples.\n",
      "2017.09.01, 14:25:32: found 300 images of class 20. Applying: flip_x=1, flip_y=0, flip_xy=0\n",
      "2017.09.01, 14:25:32: created 300 artificial samples.\n",
      "2017.09.01, 14:25:32: class 21 not transformable\n",
      "2017.09.01, 14:25:32: found 330 images of class 22. Applying: flip_x=1, flip_y=0, flip_xy=0\n",
      "2017.09.01, 14:25:32: created 330 artificial samples.\n",
      "2017.09.01, 14:25:32: class 23 not transformable\n",
      "2017.09.01, 14:25:32: class 24 not transformable\n",
      "2017.09.01, 14:25:32: class 25 not transformable\n",
      "2017.09.01, 14:25:32: found 540 images of class 26. Applying: flip_x=1, flip_y=0, flip_xy=0\n",
      "2017.09.01, 14:25:32: created 540 artificial samples.\n",
      "2017.09.01, 14:25:32: class 27 not transformable\n",
      "2017.09.01, 14:25:32: class 28 not transformable\n",
      "2017.09.01, 14:25:32: class 29 not transformable\n",
      "2017.09.01, 14:25:32: found 390 images of class 30. Applying: flip_x=1, flip_y=0, flip_xy=0\n",
      "2017.09.01, 14:25:32: created 390 artificial samples.\n",
      "2017.09.01, 14:25:32: class 31 not transformable\n",
      "2017.09.01, 14:25:32: found 210 images of class 32. Applying: flip_x=0, flip_y=0, flip_xy=1\n",
      "2017.09.01, 14:25:32: created 210 artificial samples.\n",
      "2017.09.01, 14:25:32: found 599 images of class 33. Applying: flip_x=1, flip_y=0, flip_xy=0\n",
      "2017.09.01, 14:25:32: created 599 artificial samples.\n",
      "2017.09.01, 14:25:32: found 360 images of class 34. Applying: flip_x=1, flip_y=0, flip_xy=0\n",
      "2017.09.01, 14:25:32: created 360 artificial samples.\n",
      "2017.09.01, 14:25:32: found 1080 images of class 35. Applying: flip_x=1, flip_y=0, flip_xy=0\n",
      "2017.09.01, 14:25:32: created 1080 artificial samples.\n",
      "2017.09.01, 14:25:32: found 330 images of class 36. Applying: flip_x=1, flip_y=0, flip_xy=0\n",
      "2017.09.01, 14:25:32: created 330 artificial samples.\n",
      "2017.09.01, 14:25:32: found 180 images of class 37. Applying: flip_x=1, flip_y=0, flip_xy=0\n",
      "2017.09.01, 14:25:32: created 180 artificial samples.\n",
      "2017.09.01, 14:25:32: found 1860 images of class 38. Applying: flip_x=1, flip_y=0, flip_xy=0\n",
      "2017.09.01, 14:25:32: created 1860 artificial samples.\n",
      "2017.09.01, 14:25:32: found 270 images of class 39. Applying: flip_x=1, flip_y=0, flip_xy=0\n",
      "2017.09.01, 14:25:32: created 270 artificial samples.\n",
      "2017.09.01, 14:25:32: class 40 not transformable\n",
      "2017.09.01, 14:25:32: class 41 not transformable\n",
      "2017.09.01, 14:25:32: class 42 not transformable\n",
      "2017.09.01, 14:25:32: created 22379 new samples by flipping.\n"
     ]
    },
    {
     "data": {
      "image/png": "[encoded data removed]",
      "text/plain": [
       "<matplotlib.figure.Figure at 0x7fddc10819e8>"
      ]
     },
     "metadata": {},
     "output_type": "display_data"
    },
    {
     "name": "stdout",
     "output_type": "stream",
     "text": [
      "2017.09.01, 14:25:33: class 12 (Priority road) is the maximally represented class (samples=7560). Target samples for each class=7560\n",
      "2017.09.01, 14:25:33: class 0 is present 180 times. Oversampling ratio is 42.0. Samples to create=7380.\n",
      "2017.09.01, 14:25:33: class 1 is present 1980 times. Oversampling ratio is 3.82. Samples to create=5580.\n",
      "2017.09.01, 14:25:34: class 2 is present 2010 times. Oversampling ratio is 3.76. Samples to create=5550.\n",
      "2017.09.01, 14:25:34: class 3 is present 1260 times. Oversampling ratio is 6.0. Samples to create=6300.\n",
      "2017.09.01, 14:25:35: class 4 is present 1770 times. Oversampling ratio is 4.27. Samples to create=5790.\n",
      "2017.09.01, 14:25:35: class 5 is present 1650 times. Oversampling ratio is 4.58. Samples to create=5910.\n",
      "2017.09.01, 14:25:35: class 6 is present 360 times. Oversampling ratio is 21.0. Samples to create=7200.\n",
      "2017.09.01, 14:25:36: class 7 is present 1290 times. Oversampling ratio is 5.86. Samples to create=6270.\n",
      "2017.09.01, 14:25:36: class 8 is present 1260 times. Oversampling ratio is 6.0. Samples to create=6300.\n",
      "2017.09.01, 14:25:37: class 9 is present 2640 times. Oversampling ratio is 2.86. Samples to create=4920.\n",
      "2017.09.01, 14:25:37: class 10 is present 1800 times. Oversampling ratio is 4.2. Samples to create=5760.\n",
      "2017.09.01, 14:25:38: class 11 is present 2340 times. Oversampling ratio is 3.23. Samples to create=5220.\n",
      "2017.09.01, 14:25:38: class 12 is present 7560 times. Oversampling ratio is 1.0. Samples to create=0.\n",
      "2017.09.01, 14:25:38: class 13 is present 3840 times. Oversampling ratio is 1.97. Samples to create=3720.\n",
      "2017.09.01, 14:25:38: class 14 is present 690 times. Oversampling ratio is 11.0. Samples to create=6870.\n",
      "2017.09.01, 14:25:39: class 15 is present 2160 times. Oversampling ratio is 3.5. Samples to create=5400.\n",
      "2017.09.01, 14:25:39: class 16 is present 360 times. Oversampling ratio is 21.0. Samples to create=7200.\n",
      "2017.09.01, 14:25:40: class 17 is present 3960 times. Oversampling ratio is 1.91. Samples to create=3600.\n",
      "2017.09.01, 14:25:40: class 18 is present 2160 times. Oversampling ratio is 3.5. Samples to create=5400.\n",
      "2017.09.01, 14:25:40: class 19 is present 480 times. Oversampling ratio is 15.8. Samples to create=7080.\n",
      "2017.09.01, 14:25:41: class 20 is present 480 times. Oversampling ratio is 15.8. Samples to create=7080.\n",
      "2017.09.01, 14:25:41: class 21 is present 270 times. Oversampling ratio is 28.0. Samples to create=7290.\n",
      "2017.09.01, 14:25:42: class 22 is present 660 times. Oversampling ratio is 11.5. Samples to create=6900.\n",
      "2017.09.01, 14:25:42: class 23 is present 450 times. Oversampling ratio is 16.8. Samples to create=7110.\n",
      "2017.09.01, 14:25:43: class 24 is present 240 times. Oversampling ratio is 31.5. Samples to create=7320.\n",
      "2017.09.01, 14:25:43: class 25 is present 1350 times. Oversampling ratio is 5.6. Samples to create=6209.\n",
      "2017.09.01, 14:25:44: class 26 is present 1080 times. Oversampling ratio is 7.0. Samples to create=6480.\n",
      "2017.09.01, 14:25:44: class 27 is present 210 times. Oversampling ratio is 36.0. Samples to create=7350.\n",
      "2017.09.01, 14:25:45: class 28 is present 480 times. Oversampling ratio is 15.8. Samples to create=7080.\n",
      "2017.09.01, 14:25:45: class 29 is present 240 times. Oversampling ratio is 31.5. Samples to create=7320.\n",
      "2017.09.01, 14:25:46: class 30 is present 780 times. Oversampling ratio is 9.69. Samples to create=6779.\n",
      "2017.09.01, 14:25:46: class 31 is present 690 times. Oversampling ratio is 11.0. Samples to create=6870.\n",
      "2017.09.01, 14:25:47: class 32 is present 420 times. Oversampling ratio is 18.0. Samples to create=7140.\n",
      "2017.09.01, 14:25:47: class 33 is present 959 times. Oversampling ratio is 7.88. Samples to create=6601.\n",
      "2017.09.01, 14:25:48: class 34 is present 959 times. Oversampling ratio is 7.88. Samples to create=6601.\n",
      "2017.09.01, 14:25:48: class 35 is present 2160 times. Oversampling ratio is 3.5. Samples to create=5400.\n",
      "2017.09.01, 14:25:49: class 36 is present 510 times. Oversampling ratio is 14.8. Samples to create=7050.\n",
      "2017.09.01, 14:25:49: class 37 is present 510 times. Oversampling ratio is 14.8. Samples to create=7050.\n",
      "2017.09.01, 14:25:50: class 38 is present 2130 times. Oversampling ratio is 3.55. Samples to create=5430.\n",
      "2017.09.01, 14:25:50: class 39 is present 2130 times. Oversampling ratio is 3.55. Samples to create=5430.\n",
      "2017.09.01, 14:25:50: class 40 is present 300 times. Oversampling ratio is 25.2. Samples to create=7260.\n",
      "2017.09.01, 14:25:51: class 41 is present 210 times. Oversampling ratio is 36.0. Samples to create=7350.\n",
      "2017.09.01, 14:25:51: class 42 is present 210 times. Oversampling ratio is 36.0. Samples to create=7350.\n",
      "2017.09.01, 14:25:53: created 210722 new samples by transforming.\n"
     ]
    },
    {
     "data": {
      "image/png": "[encoded data removed]",
      "text/plain": [
       "<matplotlib.figure.Figure at 0x7fddc107b6d8>"
      ]
     },
     "metadata": {},
     "output_type": "display_data"
    }
   ],
   "source": [
    "log('augmenting train')\n",
    "X_train_aug, y_train_aug = augment_dataset(X_train, y_train)"
   ]
  },
  {
   "cell_type": "code",
   "execution_count": null,
   "metadata": {
    "collapsed": true
   },
   "outputs": [],
   "source": [
    "X_test_prep = preprocess_images(X_test)"
   ]
  },
  {
   "cell_type": "code",
   "execution_count": 18,
   "metadata": {},
   "outputs": [
    {
     "name": "stdout",
     "output_type": "stream",
     "text": [
      "2017.09.01, 14:25:54: training with a total number of 34799 samples\n"
     ]
    }
   ],
   "source": [
    "log(\"training with a total number of {} samples\".format(y_train.shape[0]))"
   ]
  },
  {
   "cell_type": "code",
   "execution_count": 19,
   "metadata": {},
   "outputs": [
    {
     "name": "stdout",
     "output_type": "stream",
     "text": [
      "2017.09.01, 14:25:54: --------------------------------------------------------------\n",
      "2017.09.01, 14:25:54: Examples for class 0, \"Speed limit (20km/h)\" (180 samples)\n"
     ]
    },
    {
     "data": {
      "image/png": "[encoded data removed]",
      "text/plain": [
       "<matplotlib.figure.Figure at 0x7fdda6dc6dd8>"
      ]
     },
     "metadata": {},
     "output_type": "display_data"
    },
    {
     "name": "stdout",
     "output_type": "stream",
     "text": [
      "2017.09.01, 14:25:55: --------------------------------------------------------------\n",
      "2017.09.01, 14:25:55: Examples for class 1, \"Speed limit (30km/h)\" (1980 samples)\n"
     ]
    },
    {
     "data": {
      "image/png": "[encoded data removed]",
      "text/plain": [
       "<matplotlib.figure.Figure at 0x7fdda6bac208>"
      ]
     },
     "metadata": {},
     "output_type": "display_data"
    },
    {
     "name": "stdout",
     "output_type": "stream",
     "text": [
      "2017.09.01, 14:25:55: --------------------------------------------------------------\n",
      "2017.09.01, 14:25:55: Examples for class 2, \"Speed limit (50km/h)\" (2010 samples)\n"
     ]
    },
    {
     "data": {
      "image/png": "[encoded data removed]",
      "text/plain": [
       "<matplotlib.figure.Figure at 0x7fddc1309438>"
      ]
     },
     "metadata": {},
     "output_type": "display_data"
    }
   ],
   "source": [
    "idx = None\n",
    "plot_images_for_class(X_train_aug, y_train_aug, max_classes=3)"
   ]
  },
  {
   "cell_type": "code",
   "execution_count": 20,
   "metadata": {
    "collapsed": true
   },
   "outputs": [],
   "source": [
    "from sklearn.utils import shuffle"
   ]
  },
  {
   "cell_type": "code",
   "execution_count": 21,
   "metadata": {
    "collapsed": true
   },
   "outputs": [],
   "source": [
    "X_train, y_train = shuffle(X_train_aug, y_train_aug)"
   ]
  },
  {
   "cell_type": "code",
   "execution_count": 22,
   "metadata": {},
   "outputs": [
    {
     "name": "stdout",
     "output_type": "stream",
     "text": [
      "2017.09.01, 14:25:57: augmenting valid\n"
     ]
    },
    {
     "data": {
      "image/png": "[encoded data removed]",
      "text/plain": [
       "<matplotlib.figure.Figure at 0x7fddc0ffd160>"
      ]
     },
     "metadata": {},
     "output_type": "display_data"
    },
    {
     "name": "stdout",
     "output_type": "stream",
     "text": [
      "2017.09.01, 14:25:57: class 0 not transformable\n",
      "2017.09.01, 14:25:57: class 1 not transformable\n",
      "2017.09.01, 14:25:57: class 2 not transformable\n",
      "2017.09.01, 14:25:57: class 3 not transformable\n",
      "2017.09.01, 14:25:57: class 4 not transformable\n",
      "2017.09.01, 14:25:57: class 5 not transformable\n",
      "2017.09.01, 14:25:57: class 6 not transformable\n",
      "2017.09.01, 14:25:57: class 7 not transformable\n",
      "2017.09.01, 14:25:57: class 8 not transformable\n",
      "2017.09.01, 14:25:57: found 150 images of class 9. Applying: flip_x=1, flip_y=0, flip_xy=0\n",
      "2017.09.01, 14:25:57: created 150 artificial samples.\n",
      "2017.09.01, 14:25:57: class 10 not transformable\n",
      "2017.09.01, 14:25:57: found 150 images of class 11. Applying: flip_x=1, flip_y=0, flip_xy=0\n",
      "2017.09.01, 14:25:57: created 150 artificial samples.\n",
      "2017.09.01, 14:25:57: found 210 images of class 12. Applying: flip_x=1, flip_y=1, flip_xy=1\n",
      "2017.09.01, 14:25:57: created 630 artificial samples.\n",
      "2017.09.01, 14:25:57: found 240 images of class 13. Applying: flip_x=1, flip_y=0, flip_xy=0\n",
      "2017.09.01, 14:25:57: created 240 artificial samples.\n",
      "2017.09.01, 14:25:57: class 14 not transformable\n",
      "2017.09.01, 14:25:57: found 90 images of class 15. Applying: flip_x=1, flip_y=1, flip_xy=1\n",
      "2017.09.01, 14:25:57: created 270 artificial samples.\n",
      "2017.09.01, 14:25:57: class 16 not transformable\n",
      "2017.09.01, 14:25:57: found 120 images of class 17. Applying: flip_x=1, flip_y=1, flip_xy=1\n",
      "2017.09.01, 14:25:57: created 360 artificial samples.\n",
      "2017.09.01, 14:25:57: found 120 images of class 18. Applying: flip_x=1, flip_y=0, flip_xy=0\n",
      "2017.09.01, 14:25:57: created 120 artificial samples.\n",
      "2017.09.01, 14:25:57: found 30 images of class 19. Applying: flip_x=1, flip_y=0, flip_xy=0\n",
      "2017.09.01, 14:25:57: created 30 artificial samples.\n",
      "2017.09.01, 14:25:57: found 60 images of class 20. Applying: flip_x=1, flip_y=0, flip_xy=0\n",
      "2017.09.01, 14:25:57: created 60 artificial samples.\n",
      "2017.09.01, 14:25:57: class 21 not transformable\n",
      "2017.09.01, 14:25:57: found 60 images of class 22. Applying: flip_x=1, flip_y=0, flip_xy=0\n",
      "2017.09.01, 14:25:57: created 60 artificial samples.\n",
      "2017.09.01, 14:25:57: class 23 not transformable\n",
      "2017.09.01, 14:25:57: class 24 not transformable\n",
      "2017.09.01, 14:25:57: class 25 not transformable\n",
      "2017.09.01, 14:25:57: found 60 images of class 26. Applying: flip_x=1, flip_y=0, flip_xy=0\n",
      "2017.09.01, 14:25:57: created 60 artificial samples.\n",
      "2017.09.01, 14:25:57: class 27 not transformable\n",
      "2017.09.01, 14:25:57: class 28 not transformable\n",
      "2017.09.01, 14:25:57: class 29 not transformable\n",
      "2017.09.01, 14:25:57: found 60 images of class 30. Applying: flip_x=1, flip_y=0, flip_xy=0\n",
      "2017.09.01, 14:25:57: created 60 artificial samples.\n",
      "2017.09.01, 14:25:57: class 31 not transformable\n",
      "2017.09.01, 14:25:57: found 30 images of class 32. Applying: flip_x=0, flip_y=0, flip_xy=1\n",
      "2017.09.01, 14:25:57: created 30 artificial samples.\n",
      "2017.09.01, 14:25:57: found 90 images of class 33. Applying: flip_x=1, flip_y=0, flip_xy=0\n",
      "2017.09.01, 14:25:57: created 90 artificial samples.\n",
      "2017.09.01, 14:25:57: found 60 images of class 34. Applying: flip_x=1, flip_y=0, flip_xy=0\n",
      "2017.09.01, 14:25:57: created 60 artificial samples.\n",
      "2017.09.01, 14:25:57: found 120 images of class 35. Applying: flip_x=1, flip_y=0, flip_xy=0\n",
      "2017.09.01, 14:25:57: created 120 artificial samples.\n",
      "2017.09.01, 14:25:57: found 60 images of class 36. Applying: flip_x=1, flip_y=0, flip_xy=0\n",
      "2017.09.01, 14:25:57: created 60 artificial samples.\n",
      "2017.09.01, 14:25:57: found 30 images of class 37. Applying: flip_x=1, flip_y=0, flip_xy=0\n",
      "2017.09.01, 14:25:57: created 30 artificial samples.\n",
      "2017.09.01, 14:25:57: found 210 images of class 38. Applying: flip_x=1, flip_y=0, flip_xy=0\n",
      "2017.09.01, 14:25:57: created 210 artificial samples.\n",
      "2017.09.01, 14:25:57: found 30 images of class 39. Applying: flip_x=1, flip_y=0, flip_xy=0\n",
      "2017.09.01, 14:25:57: created 30 artificial samples.\n",
      "2017.09.01, 14:25:57: class 40 not transformable\n",
      "2017.09.01, 14:25:57: class 41 not transformable\n",
      "2017.09.01, 14:25:57: class 42 not transformable\n",
      "2017.09.01, 14:25:57: created 2820 new samples by flipping.\n"
     ]
    },
    {
     "data": {
      "image/png": "[encoded data removed]",
      "text/plain": [
       "<matplotlib.figure.Figure at 0x7fdda6dd1eb8>"
      ]
     },
     "metadata": {},
     "output_type": "display_data"
    },
    {
     "name": "stdout",
     "output_type": "stream",
     "text": [
      "2017.09.01, 14:25:58: class 12 (Priority road) is the maximally represented class (samples=840). Target samples for each class=840\n",
      "2017.09.01, 14:25:58: class 0 is present 30 times. Oversampling ratio is 28.0. Samples to create=810.\n",
      "2017.09.01, 14:25:58: class 1 is present 240 times. Oversampling ratio is 3.5. Samples to create=600.\n",
      "2017.09.01, 14:25:58: class 2 is present 240 times. Oversampling ratio is 3.5. Samples to create=600.\n",
      "2017.09.01, 14:25:58: class 3 is present 150 times. Oversampling ratio is 5.6. Samples to create=690.\n",
      "2017.09.01, 14:25:58: class 4 is present 210 times. Oversampling ratio is 4.0. Samples to create=630.\n",
      "2017.09.01, 14:25:58: class 5 is present 210 times. Oversampling ratio is 4.0. Samples to create=630.\n",
      "2017.09.01, 14:25:58: class 6 is present 60 times. Oversampling ratio is 14.0. Samples to create=780.\n",
      "2017.09.01, 14:25:58: class 7 is present 150 times. Oversampling ratio is 5.6. Samples to create=690.\n",
      "2017.09.01, 14:25:58: class 8 is present 150 times. Oversampling ratio is 5.6. Samples to create=690.\n",
      "2017.09.01, 14:25:58: class 9 is present 300 times. Oversampling ratio is 2.8. Samples to create=540.\n",
      "2017.09.01, 14:25:58: class 10 is present 210 times. Oversampling ratio is 4.0. Samples to create=630.\n",
      "2017.09.01, 14:25:58: class 11 is present 300 times. Oversampling ratio is 2.8. Samples to create=540.\n",
      "2017.09.01, 14:25:58: class 12 is present 840 times. Oversampling ratio is 1.0. Samples to create=0.\n",
      "2017.09.01, 14:25:58: class 13 is present 480 times. Oversampling ratio is 1.75. Samples to create=360.\n",
      "2017.09.01, 14:25:58: class 14 is present 90 times. Oversampling ratio is 9.33. Samples to create=750.\n",
      "2017.09.01, 14:25:58: class 15 is present 360 times. Oversampling ratio is 2.33. Samples to create=480.\n",
      "2017.09.01, 14:25:58: class 16 is present 60 times. Oversampling ratio is 14.0. Samples to create=780.\n",
      "2017.09.01, 14:25:58: class 17 is present 480 times. Oversampling ratio is 1.75. Samples to create=360.\n",
      "2017.09.01, 14:25:58: class 18 is present 240 times. Oversampling ratio is 3.5. Samples to create=600.\n",
      "2017.09.01, 14:25:59: class 19 is present 90 times. Oversampling ratio is 9.33. Samples to create=750.\n",
      "2017.09.01, 14:25:59: class 20 is present 90 times. Oversampling ratio is 9.33. Samples to create=750.\n",
      "2017.09.01, 14:25:59: class 21 is present 60 times. Oversampling ratio is 14.0. Samples to create=780.\n",
      "2017.09.01, 14:25:59: class 22 is present 120 times. Oversampling ratio is 7.0. Samples to create=720.\n",
      "2017.09.01, 14:25:59: class 23 is present 60 times. Oversampling ratio is 14.0. Samples to create=780.\n",
      "2017.09.01, 14:25:59: class 24 is present 30 times. Oversampling ratio is 28.0. Samples to create=810.\n",
      "2017.09.01, 14:25:59: class 25 is present 150 times. Oversampling ratio is 5.6. Samples to create=690.\n",
      "2017.09.01, 14:25:59: class 26 is present 120 times. Oversampling ratio is 7.0. Samples to create=720.\n",
      "2017.09.01, 14:25:59: class 27 is present 30 times. Oversampling ratio is 28.0. Samples to create=810.\n",
      "2017.09.01, 14:25:59: class 28 is present 60 times. Oversampling ratio is 14.0. Samples to create=780.\n",
      "2017.09.01, 14:25:59: class 29 is present 30 times. Oversampling ratio is 28.0. Samples to create=810.\n",
      "2017.09.01, 14:25:59: class 30 is present 120 times. Oversampling ratio is 7.0. Samples to create=720.\n",
      "2017.09.01, 14:25:59: class 31 is present 90 times. Oversampling ratio is 9.33. Samples to create=750.\n",
      "2017.09.01, 14:25:59: class 32 is present 60 times. Oversampling ratio is 14.0. Samples to create=780.\n",
      "2017.09.01, 14:25:59: class 33 is present 150 times. Oversampling ratio is 5.6. Samples to create=690.\n",
      "2017.09.01, 14:26:00: class 34 is present 150 times. Oversampling ratio is 5.6. Samples to create=690.\n",
      "2017.09.01, 14:26:00: class 35 is present 240 times. Oversampling ratio is 3.5. Samples to create=600.\n",
      "2017.09.01, 14:26:00: class 36 is present 90 times. Oversampling ratio is 9.33. Samples to create=750.\n",
      "2017.09.01, 14:26:00: class 37 is present 90 times. Oversampling ratio is 9.33. Samples to create=750.\n",
      "2017.09.01, 14:26:00: class 38 is present 240 times. Oversampling ratio is 3.5. Samples to create=600.\n",
      "2017.09.01, 14:26:00: class 39 is present 240 times. Oversampling ratio is 3.5. Samples to create=600.\n",
      "2017.09.01, 14:26:00: class 40 is present 60 times. Oversampling ratio is 14.0. Samples to create=780.\n",
      "2017.09.01, 14:26:00: class 41 is present 30 times. Oversampling ratio is 28.0. Samples to create=810.\n",
      "2017.09.01, 14:26:00: class 42 is present 30 times. Oversampling ratio is 28.0. Samples to create=810.\n",
      "2017.09.01, 14:26:00: created 21660 new samples by transforming.\n"
     ]
    },
    {
     "data": {
      "image/png": "[encoded data removed]",
      "text/plain": [
       "<matplotlib.figure.Figure at 0x7fddc1331860>"
      ]
     },
     "metadata": {},
     "output_type": "display_data"
    }
   ],
   "source": [
    "log('augmenting valid')\n",
    "X_valid_aug, y_valid_aug = augment_dataset(X_valid, y_valid)"
   ]
  },
  {
   "cell_type": "code",
   "execution_count": 23,
   "metadata": {
    "collapsed": true
   },
   "outputs": [],
   "source": [
    "X_valid, y_valid = X_valid_aug, y_valid_aug"
   ]
  },
  {
   "cell_type": "code",
   "execution_count": null,
   "metadata": {
    "collapsed": true
   },
   "outputs": [],
   "source": [
    "save_data()"
   ]
  },
  {
   "cell_type": "markdown",
   "metadata": {},
   "source": [
    "### Model Architecture"
   ]
  },
  {
   "cell_type": "code",
   "execution_count": 24,
   "metadata": {
    "collapsed": true
   },
   "outputs": [],
   "source": [
    "import tensorflow as tf\n",
    "\n",
    "n_classes = 43\n",
    "image_depth = 1"
   ]
  },
  {
   "cell_type": "code",
   "execution_count": 25,
   "metadata": {
    "collapsed": true
   },
   "outputs": [],
   "source": [
    "from tensorflow.contrib.layers import flatten\n",
    "\n",
    "def conv2d(input, filter_width, filter_height, stage_name = \"default\", input_depth = 1, output_depth = 6,\n",
    "                 stride = 2):\n",
    "    # This solution uses the tf.truncated_normal() function to initialize the weights and bias Variables. \n",
    "    # Using the default mean and standard deviation from tf.truncated_normal() is fine. However, tuning \n",
    "    # these hyperparameters can result in better performance.\n",
    "    mu = 0\n",
    "    sigma = 0.1\n",
    "    \n",
    "    # Filter (weights and bias)\n",
    "    # The shape of the filter weight is (height, width, input_depth, output_depth)\n",
    "    # The shape of the filter bias is (output_depth,)\n",
    "    # TODO: Define the filter weights `F_W` and filter bias `F_b`.\n",
    "    # NOTE: Remember to wrap them in ` tf.Variable`, they are trainable parameters after all.\n",
    "    F_W = tf.Variable(tf.truncated_normal(shape = (filter_width, filter_height, input_depth, output_depth),\n",
    "                                         mean = mu,\n",
    "                                         stddev = sigma), name = \"weight_\" + stage_name)\n",
    "    tf.add_to_collection(tf.GraphKeys.REGULARIZATION_LOSSES, F_W)\n",
    "    F_b = tf.Variable(tf.zeros(output_depth), name = \"bias_\" + stage_name)\n",
    "    # TODO: Set the stride for each dimension (batch_size, height, width, depth)\n",
    "    strides = [1, stride, stride, 1]\n",
    "    # TODO: set the padding, either 'VALID' or 'SAME'.\n",
    "    padding = 'VALID'\n",
    "    # https://www.tensorflow.org/versions/r0.11/api_docs/python/nn.html#conv2d\n",
    "    # `tf.nn.conv2d` does not include the bias computation so we have to add it ourselves after.\n",
    "    return tf.nn.conv2d(input, F_W, strides, padding) + F_b\n",
    "\n",
    "def maxpool(input, filter_height, filter_width, stride):\n",
    "    # TODO: Set the ksize (filter size) for each dimension (batch_size, height, width, depth)\n",
    "    ksize = [1, filter_height, filter_width, 1]\n",
    "    # TODO: Set the stride for each dimension (batch_size, height, width, depth)\n",
    "    strides = [1, stride, stride, 1]\n",
    "    # TODO: set the padding, either 'VALID' or 'SAME'.\n",
    "    padding = 'VALID'\n",
    "    # https://www.tensorflow.org/versions/r0.11/api_docs/python/nn.html#max_pool\n",
    "    return tf.nn.max_pool(input, ksize, strides, padding)\n",
    "\n",
    "\n",
    "def LeNet3(x, keep_prob = tf.placeholder(tf.float32), n_classes = 43, original_depth = 1):    \n",
    "    \n",
    "    # Arguments used for tf.truncated_normal, randomly defines variables for the weights and biases for each layer\n",
    "    mu = 0\n",
    "    sigma = 0.1\n",
    "    \n",
    "    # TODO: Layer 1: Convolutional. Input = 32x32x1. Output = 28x28x6.\n",
    "    layer1_conv = conv2d(x, 5, 5, stage_name = \"layer1_conv\", input_depth = original_depth, output_depth = 6, stride = 1)\n",
    "    \n",
    "    # TODO: Activation.\n",
    "    # Use predefined relu function as activation\n",
    "    layer1_relu = tf.nn.relu(layer1_conv)\n",
    "\n",
    "    # TODO: Pooling. Input = 28x28x6. Output = 14x14x6.\n",
    "    layer1_pooled = maxpool(layer1_relu, filter_height = 2, filter_width = 2, stride = 2)\n",
    "\n",
    "    # TODO: Layer 2: Convolutional. Output = 10x10x16.\n",
    "    layer2_conv = conv2d(layer1_pooled, filter_height = 5, stage_name = \"layer2_conv\", filter_width = 5, input_depth = 6, output_depth = 16, stride = 1)\n",
    "    \n",
    "    # TODO: Activation.\n",
    "    layer2_relu = tf.nn.relu(layer2_conv)\n",
    "    \n",
    "    # UPGRADE: Dropout\n",
    "    layer2_relu = tf.nn.dropout(layer2_relu, keep_prob)\n",
    "\n",
    "    # TODO: Pooling. Input = 10x10x16. Output = 5x5x16.\n",
    "    layer2_pooled = maxpool(layer2_relu, filter_height = 2, filter_width = 2, stride = 2)\n",
    "\n",
    "    # TODO: Flatten. Input = 5x5x16. Output = 400.\n",
    "    flattened = tf.contrib.layers.flatten(layer2_pooled)\n",
    "    \n",
    "    # TODO: Layer 3: Fully Connected. Input = 400. Output = 120.\n",
    "    layer3 = tf.contrib.layers.fully_connected(flattened, 120)\n",
    "    \n",
    "    # TODO: Activation.\n",
    "    layer3_relu = tf.nn.relu(layer3)\n",
    "    \n",
    "    # UPGRADE: Dropout\n",
    "    layer3_relu = tf.nn.dropout(layer3_relu, keep_prob)\n",
    "    \n",
    "    # SOLUTION: Layer 4: Fully Connected. Input = 120. Output = 84.\n",
    "    fc2_W  = tf.Variable(tf.truncated_normal(shape=(120, 84), mean = mu, stddev = sigma), name= 'weight_fc3_W')\n",
    "    fc2_b  = tf.Variable(tf.zeros(84), name= 'bias_fc2_b')\n",
    "    layer4    = tf.matmul(layer3_relu, fc2_W) + fc2_b\n",
    "\n",
    "    # TODO: Activation.\n",
    "    layer4_relu = tf.nn.relu(layer4)\n",
    "\n",
    "    # SOLUTION: Layer 5: Fully Connected. Input = 84. Output = 10.\n",
    "    fc3_W  = tf.Variable(tf.truncated_normal(shape=(84, n_classes), mean = mu, stddev = sigma), name= 'weight_fc3_W')\n",
    "    fc3_b  = tf.Variable(tf.zeros(n_classes), name= 'bias_fc3_b')\n",
    "    logits = tf.matmul(layer4_relu, fc3_W) + fc3_b\n",
    "    \n",
    "    return logits"
   ]
  },
  {
   "cell_type": "code",
   "execution_count": 26,
   "metadata": {
    "collapsed": true
   },
   "outputs": [],
   "source": [
    "x = tf.placeholder(tf.float32, (None, 32, 32, image_depth))\n",
    "y = tf.placeholder(tf.int32, (None))\n",
    "one_hot_y = tf.one_hot(y, n_classes)"
   ]
  },
  {
   "cell_type": "markdown",
   "metadata": {},
   "source": [
    "### Train, Validate and Test the Model"
   ]
  },
  {
   "cell_type": "markdown",
   "metadata": {},
   "source": [
    "A validation set can be used to assess how well the model is performing. A low accuracy on the training and validation\n",
    "sets imply underfitting. A high accuracy on the training set but low accuracy on the validation set implies overfitting."
   ]
  },
  {
   "cell_type": "markdown",
   "metadata": {},
   "source": [
    "#### Train"
   ]
  },
  {
   "cell_type": "code",
   "execution_count": 7,
   "metadata": {
    "collapsed": true
   },
   "outputs": [],
   "source": [
    "load_data()"
   ]
  },
  {
   "cell_type": "code",
   "execution_count": 27,
   "metadata": {
    "collapsed": true
   },
   "outputs": [],
   "source": [
    "rate_coarse = 0.0005\n",
    "rate_fine = 0.0001\n",
    "EPOCHS = 30\n",
    "BATCH_SIZE = 256\n",
    "BETA = 0.001 # This is a good beta value to start with for regularization\n",
    "\n",
    "keep_prob = tf.placeholder(tf.float32)\n",
    "logits = LeNet3(x, keep_prob, n_classes= n_classes, original_depth= image_depth)\n",
    "cross_entropy = tf.nn.softmax_cross_entropy_with_logits(labels=one_hot_y, logits=logits)\n",
    "loss_operation = tf.reduce_mean(cross_entropy)\n",
    "\n",
    "# EXPERIMENTAL\n",
    "# Loss function using L2 Regularization\n",
    "trainable_vars   = tf.trainable_variables() \n",
    "lossL2 = tf.add_n([ tf.nn.l2_loss(v) for v in trainable_vars\n",
    "                    if 'bias' not in v.name ])\n",
    "#weights = tf.get_collection(tf.GraphKeys.REGULARIZATION_LOSSES)\n",
    "#regularizer = tf.nn.l2_loss(weights)\n",
    "loss_operation = tf.reduce_mean(loss_operation + BETA * lossL2)\n",
    "# EXPERIMENTAL\n",
    "\n",
    "optimizer = tf.train.AdamOptimizer(learning_rate = rate_coarse)\n",
    "training_operation = optimizer.minimize(loss_operation)"
   ]
  },
  {
   "cell_type": "code",
   "execution_count": 28,
   "metadata": {
    "collapsed": true
   },
   "outputs": [],
   "source": [
    "correct_prediction = tf.equal(tf.argmax(logits, 1), tf.argmax(one_hot_y, 1))\n",
    "accuracy_operation = tf.reduce_mean(tf.cast(correct_prediction, tf.float32))\n",
    "saver = tf.train.Saver()\n",
    "\n",
    "def evaluate(X_data, y_data):\n",
    "    num_examples = len(X_data)\n",
    "    total_accuracy = 0\n",
    "    sess = tf.get_default_session()\n",
    "    for offset in range(0, num_examples, BATCH_SIZE):\n",
    "        batch_x, batch_y = X_data[offset:offset+BATCH_SIZE], y_data[offset:offset+BATCH_SIZE]\n",
    "        accuracy = sess.run(accuracy_operation, feed_dict={x: batch_x, y: batch_y, keep_prob: 1})\n",
    "        total_accuracy += (accuracy * len(batch_x))\n",
    "    return total_accuracy / num_examples"
   ]
  },
  {
   "cell_type": "code",
   "execution_count": 29,
   "metadata": {
    "collapsed": true
   },
   "outputs": [],
   "source": [
    "def train_net(sess, X_train, y_train):\n",
    "    accuracies = np.zeros(n_auto_stop).tolist()\n",
    "    \n",
    "    sess.run(tf.global_variables_initializer())\n",
    "    num_examples = len(X_train)\n",
    "    \n",
    "    log(\"Training...\")\n",
    "    for i in range(EPOCHS):\n",
    "        X_train, y_train = shuffle(X_train, y_train)\n",
    "        for offset in range(0, num_examples, BATCH_SIZE):\n",
    "            end = offset + BATCH_SIZE\n",
    "            batch_x, batch_y = X_train[offset:end], y_train[offset:end]\n",
    "            sess.run(training_operation, feed_dict={x: batch_x, y: batch_y, keep_prob: 0.5})\n",
    "            \n",
    "        validation_accuracy = evaluate(X_valid, y_valid)\n",
    "        log(\"EPOCH {} ...\".format(i+1))\n",
    "        log(\"Validation Accuracy = {:.3f}\".format(validation_accuracy))\n",
    "        if len(accuracies) > n_auto_stop:\n",
    "            accuracies = accuracies[-n_auto_stop:] # take last n_auto_stop elements\n",
    "        if min(accuracies) >= (validation_accuracy + 0.1):\n",
    "            log(\"accuracy stopped increasing more than 0.1. stopping...\")\n",
    "            break\n",
    "        else:\n",
    "            log(\"minimum accuracy during last {0} epochs was {1:.3}, tends to increase. Continueing...\".format(\n",
    "                n_auto_stop, min(accuracies)))\n",
    "            \n",
    "        accuracies.append(validation_accuracy)\n",
    "        \n",
    "    saver.save(sess, './lenet')\n",
    "    log(\"Model saved\")"
   ]
  },
  {
   "cell_type": "code",
   "execution_count": 33,
   "metadata": {},
   "outputs": [
    {
     "name": "stdout",
     "output_type": "stream",
     "text": [
      "2017.09.01, 14:42:17: Training...\n",
      "2017.09.01, 14:42:36: EPOCH 1 ...\n",
      "2017.09.01, 14:42:36: Validation Accuracy = 0.874\n",
      "2017.09.01, 14:42:36: minimum accuracy during last 10 epochs was 0.0, tends to increase. Continueing...\n",
      "2017.09.01, 14:42:56: EPOCH 2 ...\n",
      "2017.09.01, 14:42:56: Validation Accuracy = 0.917\n",
      "2017.09.01, 14:42:56: minimum accuracy during last 10 epochs was 0.0, tends to increase. Continueing...\n",
      "2017.09.01, 14:43:16: EPOCH 3 ...\n",
      "2017.09.01, 14:43:16: Validation Accuracy = 0.932\n",
      "2017.09.01, 14:43:16: minimum accuracy during last 10 epochs was 0.0, tends to increase. Continueing...\n",
      "2017.09.01, 14:43:37: EPOCH 4 ...\n",
      "2017.09.01, 14:43:37: Validation Accuracy = 0.942\n",
      "2017.09.01, 14:43:37: minimum accuracy during last 10 epochs was 0.0, tends to increase. Continueing...\n",
      "2017.09.01, 14:43:58: EPOCH 5 ...\n",
      "2017.09.01, 14:43:58: Validation Accuracy = 0.945\n",
      "2017.09.01, 14:43:58: minimum accuracy during last 10 epochs was 0.0, tends to increase. Continueing...\n",
      "2017.09.01, 14:44:19: EPOCH 6 ...\n",
      "2017.09.01, 14:44:19: Validation Accuracy = 0.946\n",
      "2017.09.01, 14:44:19: minimum accuracy during last 10 epochs was 0.0, tends to increase. Continueing...\n",
      "2017.09.01, 14:44:40: EPOCH 7 ...\n",
      "2017.09.01, 14:44:40: Validation Accuracy = 0.951\n",
      "2017.09.01, 14:44:40: minimum accuracy during last 10 epochs was 0.0, tends to increase. Continueing...\n",
      "2017.09.01, 14:45:00: EPOCH 8 ...\n",
      "2017.09.01, 14:45:00: Validation Accuracy = 0.949\n",
      "2017.09.01, 14:45:00: minimum accuracy during last 10 epochs was 0.0, tends to increase. Continueing...\n",
      "2017.09.01, 14:45:21: EPOCH 9 ...\n",
      "2017.09.01, 14:45:21: Validation Accuracy = 0.957\n",
      "2017.09.01, 14:45:21: minimum accuracy during last 10 epochs was 0.0, tends to increase. Continueing...\n",
      "2017.09.01, 14:45:42: EPOCH 10 ...\n",
      "2017.09.01, 14:45:42: Validation Accuracy = 0.953\n",
      "2017.09.01, 14:45:42: minimum accuracy during last 10 epochs was 0.0, tends to increase. Continueing...\n",
      "2017.09.01, 14:45:42: Model saved\n"
     ]
    }
   ],
   "source": [
    "EPOCHS = 10\n",
    "n_auto_stop = 10 # determines how many epochs are used for auto stopping, this is inherently the minimum number of epochs\n",
    "with tf.Session() as sess:\n",
    "    train_net(sess, X_train, y_train)"
   ]
  },
  {
   "cell_type": "code",
   "execution_count": 35,
   "metadata": {},
   "outputs": [
    {
     "name": "stdout",
     "output_type": "stream",
     "text": [
      "INFO:tensorflow:Restoring parameters from ./lenet\n",
      "2017.09.01, 14:57:45: Training...\n",
      "2017.09.01, 14:58:05: EPOCH 1 ...\n",
      "2017.09.01, 14:58:05: Validation Accuracy = 0.650\n",
      "2017.09.01, 14:58:05: minimum accuracy during last 10 epochs was 0.0, tends to increase. Continueing...\n",
      "2017.09.01, 14:58:26: EPOCH 2 ...\n",
      "2017.09.01, 14:58:26: Validation Accuracy = 0.765\n",
      "2017.09.01, 14:58:26: minimum accuracy during last 10 epochs was 0.0, tends to increase. Continueing...\n",
      "2017.09.01, 14:58:46: EPOCH 3 ...\n",
      "2017.09.01, 14:58:46: Validation Accuracy = 0.823\n",
      "2017.09.01, 14:58:46: minimum accuracy during last 10 epochs was 0.0, tends to increase. Continueing...\n",
      "2017.09.01, 14:59:07: EPOCH 4 ...\n",
      "2017.09.01, 14:59:07: Validation Accuracy = 0.853\n",
      "2017.09.01, 14:59:07: minimum accuracy during last 10 epochs was 0.0, tends to increase. Continueing...\n",
      "2017.09.01, 14:59:27: EPOCH 5 ...\n",
      "2017.09.01, 14:59:27: Validation Accuracy = 0.871\n",
      "2017.09.01, 14:59:27: minimum accuracy during last 10 epochs was 0.0, tends to increase. Continueing...\n",
      "2017.09.01, 14:59:48: EPOCH 6 ...\n",
      "2017.09.01, 14:59:48: Validation Accuracy = 0.880\n",
      "2017.09.01, 14:59:48: minimum accuracy during last 10 epochs was 0.0, tends to increase. Continueing...\n",
      "2017.09.01, 15:00:09: EPOCH 7 ...\n",
      "2017.09.01, 15:00:09: Validation Accuracy = 0.893\n",
      "2017.09.01, 15:00:09: minimum accuracy during last 10 epochs was 0.0, tends to increase. Continueing...\n",
      "2017.09.01, 15:00:29: EPOCH 8 ...\n",
      "2017.09.01, 15:00:29: Validation Accuracy = 0.898\n",
      "2017.09.01, 15:00:29: minimum accuracy during last 10 epochs was 0.0, tends to increase. Continueing...\n",
      "2017.09.01, 15:00:50: EPOCH 9 ...\n",
      "2017.09.01, 15:00:50: Validation Accuracy = 0.908\n",
      "2017.09.01, 15:00:50: minimum accuracy during last 10 epochs was 0.0, tends to increase. Continueing...\n",
      "2017.09.01, 15:01:11: EPOCH 10 ...\n",
      "2017.09.01, 15:01:11: Validation Accuracy = 0.910\n",
      "2017.09.01, 15:01:11: minimum accuracy during last 10 epochs was 0.0, tends to increase. Continueing...\n",
      "2017.09.01, 15:01:31: EPOCH 11 ...\n",
      "2017.09.01, 15:01:31: Validation Accuracy = 0.919\n",
      "2017.09.01, 15:01:31: minimum accuracy during last 10 epochs was 0.65, tends to increase. Continueing...\n",
      "2017.09.01, 15:01:52: EPOCH 12 ...\n",
      "2017.09.01, 15:01:52: Validation Accuracy = 0.919\n",
      "2017.09.01, 15:01:52: minimum accuracy during last 10 epochs was 0.765, tends to increase. Continueing...\n",
      "2017.09.01, 15:02:12: EPOCH 13 ...\n",
      "2017.09.01, 15:02:12: Validation Accuracy = 0.928\n",
      "2017.09.01, 15:02:12: minimum accuracy during last 10 epochs was 0.823, tends to increase. Continueing...\n",
      "2017.09.01, 15:02:33: EPOCH 14 ...\n",
      "2017.09.01, 15:02:33: Validation Accuracy = 0.923\n",
      "2017.09.01, 15:02:33: minimum accuracy during last 10 epochs was 0.853, tends to increase. Continueing...\n",
      "2017.09.01, 15:02:53: EPOCH 15 ...\n",
      "2017.09.01, 15:02:53: Validation Accuracy = 0.929\n",
      "2017.09.01, 15:02:53: minimum accuracy during last 10 epochs was 0.871, tends to increase. Continueing...\n",
      "2017.09.01, 15:03:14: EPOCH 16 ...\n",
      "2017.09.01, 15:03:14: Validation Accuracy = 0.935\n",
      "2017.09.01, 15:03:14: minimum accuracy during last 10 epochs was 0.88, tends to increase. Continueing...\n",
      "2017.09.01, 15:03:35: EPOCH 17 ...\n",
      "2017.09.01, 15:03:35: Validation Accuracy = 0.934\n",
      "2017.09.01, 15:03:35: minimum accuracy during last 10 epochs was 0.893, tends to increase. Continueing...\n",
      "2017.09.01, 15:03:55: EPOCH 18 ...\n",
      "2017.09.01, 15:03:55: Validation Accuracy = 0.936\n",
      "2017.09.01, 15:03:55: minimum accuracy during last 10 epochs was 0.898, tends to increase. Continueing...\n",
      "2017.09.01, 15:04:16: EPOCH 19 ...\n",
      "2017.09.01, 15:04:16: Validation Accuracy = 0.939\n",
      "2017.09.01, 15:04:16: minimum accuracy during last 10 epochs was 0.908, tends to increase. Continueing...\n",
      "2017.09.01, 15:04:36: EPOCH 20 ...\n",
      "2017.09.01, 15:04:36: Validation Accuracy = 0.937\n",
      "2017.09.01, 15:04:36: minimum accuracy during last 10 epochs was 0.91, tends to increase. Continueing...\n",
      "2017.09.01, 15:04:57: EPOCH 21 ...\n",
      "2017.09.01, 15:04:57: Validation Accuracy = 0.939\n",
      "2017.09.01, 15:04:57: minimum accuracy during last 10 epochs was 0.919, tends to increase. Continueing...\n",
      "2017.09.01, 15:05:17: EPOCH 22 ...\n",
      "2017.09.01, 15:05:17: Validation Accuracy = 0.941\n",
      "2017.09.01, 15:05:17: minimum accuracy during last 10 epochs was 0.919, tends to increase. Continueing...\n",
      "2017.09.01, 15:05:38: EPOCH 23 ...\n",
      "2017.09.01, 15:05:38: Validation Accuracy = 0.942\n",
      "2017.09.01, 15:05:38: minimum accuracy during last 10 epochs was 0.923, tends to increase. Continueing...\n",
      "2017.09.01, 15:05:58: EPOCH 24 ...\n",
      "2017.09.01, 15:05:58: Validation Accuracy = 0.943\n",
      "2017.09.01, 15:05:58: minimum accuracy during last 10 epochs was 0.923, tends to increase. Continueing...\n",
      "2017.09.01, 15:06:19: EPOCH 25 ...\n",
      "2017.09.01, 15:06:19: Validation Accuracy = 0.944\n",
      "2017.09.01, 15:06:19: minimum accuracy during last 10 epochs was 0.929, tends to increase. Continueing...\n",
      "2017.09.01, 15:06:39: EPOCH 26 ...\n",
      "2017.09.01, 15:06:39: Validation Accuracy = 0.945\n",
      "2017.09.01, 15:06:39: minimum accuracy during last 10 epochs was 0.934, tends to increase. Continueing...\n",
      "2017.09.01, 15:07:00: EPOCH 27 ...\n",
      "2017.09.01, 15:07:00: Validation Accuracy = 0.947\n",
      "2017.09.01, 15:07:00: minimum accuracy during last 10 epochs was 0.934, tends to increase. Continueing...\n",
      "2017.09.01, 15:07:21: EPOCH 28 ...\n",
      "2017.09.01, 15:07:21: Validation Accuracy = 0.948\n",
      "2017.09.01, 15:07:21: minimum accuracy during last 10 epochs was 0.936, tends to increase. Continueing...\n",
      "2017.09.01, 15:07:42: EPOCH 29 ...\n",
      "2017.09.01, 15:07:42: Validation Accuracy = 0.945\n",
      "2017.09.01, 15:07:42: minimum accuracy during last 10 epochs was 0.937, tends to increase. Continueing...\n",
      "2017.09.01, 15:08:02: EPOCH 30 ...\n",
      "2017.09.01, 15:08:02: Validation Accuracy = 0.948\n",
      "2017.09.01, 15:08:02: minimum accuracy during last 10 epochs was 0.937, tends to increase. Continueing...\n",
      "2017.09.01, 15:08:02: Model saved\n"
     ]
    }
   ],
   "source": [
    "# train again with finer settings\n",
    "optimizer = tf.train.AdamOptimizer(learning_rate = rate_fine)\n",
    "training_operation = optimizer.minimize(loss_operation)\n",
    "n_auto_stop = 10\n",
    "EPOCHS = 100\n",
    "\n",
    "with tf.Session() as sess:\n",
    "    saver.restore(sess, tf.train.latest_checkpoint('.'))\n",
    "    train_net(sess, X_train, y_train)"
   ]
  },
  {
   "cell_type": "markdown",
   "metadata": {},
   "source": [
    "#### Test"
   ]
  },
  {
   "cell_type": "code",
   "execution_count": 36,
   "metadata": {},
   "outputs": [
    {
     "name": "stdout",
     "output_type": "stream",
     "text": [
      "INFO:tensorflow:Restoring parameters from ./lenet\n",
      "2017.09.01, 15:08:09: Test Accuracy = 0.948\n"
     ]
    }
   ],
   "source": [
    "#tf.reset_default_graph()\n",
    "sess = tf.get_default_session()\n",
    "\n",
    "with tf.Session() as sess:\n",
    "    saver.restore(sess, tf.train.latest_checkpoint('.'))\n",
    "\n",
    "    test_accuracy = evaluate(X_valid, y_valid)\n",
    "    log(\"Test Accuracy = {:.3f}\".format(test_accuracy))"
   ]
  },
  {
   "cell_type": "code",
   "execution_count": 37,
   "metadata": {},
   "outputs": [
    {
     "name": "stdout",
     "output_type": "stream",
     "text": [
      "2017.09.01, 15:08:28: --------------------------------------------------------------\n",
      "2017.09.01, 15:08:28: Examples for class 0, \"Speed limit (20km/h)\" (180 samples)\n"
     ]
    },
    {
     "data": {
      "image/png": "[encoded data removed]",
      "text/plain": [
       "<matplotlib.figure.Figure at 0x7fdd58664cc0>"
      ]
     },
     "metadata": {},
     "output_type": "display_data"
    },
    {
     "name": "stdout",
     "output_type": "stream",
     "text": [
      "2017.09.01, 15:08:28: --------------------------------------------------------------\n",
      "2017.09.01, 15:08:28: Examples for class 1, \"Speed limit (30km/h)\" (1980 samples)\n"
     ]
    },
    {
     "data": {
      "image/png": "[encoded data removed]",
      "text/plain": [
       "<matplotlib.figure.Figure at 0x7fdd0c7a96a0>"
      ]
     },
     "metadata": {},
     "output_type": "display_data"
    },
    {
     "name": "stdout",
     "output_type": "stream",
     "text": [
      "2017.09.01, 15:08:29: --------------------------------------------------------------\n",
      "2017.09.01, 15:08:29: Examples for class 2, \"Speed limit (50km/h)\" (2010 samples)\n"
     ]
    },
    {
     "data": {
      "image/png": "[encoded data removed]",
      "text/plain": [
       "<matplotlib.figure.Figure at 0x7fddc103ee80>"
      ]
     },
     "metadata": {},
     "output_type": "display_data"
    }
   ],
   "source": [
    "idx = None # ensure same images to show after each step\n",
    "plot_images_for_class(X_test_prep, y_test, max_classes = 3)"
   ]
  },
  {
   "cell_type": "code",
   "execution_count": 38,
   "metadata": {},
   "outputs": [
    {
     "name": "stdout",
     "output_type": "stream",
     "text": [
      "INFO:tensorflow:Restoring parameters from ./lenet\n",
      "2017.09.01, 15:08:32: Test Accuracy = 0.939\n"
     ]
    }
   ],
   "source": [
    "with tf.Session() as sess:\n",
    "    saver.restore(sess, tf.train.latest_checkpoint('.'))\n",
    "\n",
    "    test_accuracy = evaluate(X_test_prep, y_test)\n",
    "    log(\"Test Accuracy = {:.3f}\".format(test_accuracy))"
   ]
  },
  {
   "cell_type": "markdown",
   "metadata": {},
   "source": [
    "---\n",
    "\n",
    "## Step 3: Test a Model on New Images\n",
    "\n",
    "To give yourself more insight into how your model is working, download at least five pictures of German traffic signs from the web and use your model to predict the traffic sign type.\n",
    "\n",
    "You may find `signnames.csv` useful as it contains mappings from the class id (integer) to the actual sign name."
   ]
  },
  {
   "cell_type": "markdown",
   "metadata": {},
   "source": [
    "### Load and Output the Images"
   ]
  },
  {
   "cell_type": "code",
   "execution_count": 39,
   "metadata": {},
   "outputs": [
    {
     "data": {
      "image/png": "[encoded data removed]",
      "text/plain": [
       "<matplotlib.figure.Figure at 0x7fdbbc0cd4e0>"
      ]
     },
     "metadata": {},
     "output_type": "display_data"
    },
    {
     "data": {
      "image/png": "[encoded data removed]",
      "text/plain": [
       "<matplotlib.figure.Figure at 0x7fdb9c7f7f28>"
      ]
     },
     "metadata": {},
     "output_type": "display_data"
    },
    {
     "data": {
      "image/png": "[encoded data removed]",
      "text/plain": [
       "<matplotlib.figure.Figure at 0x7fdb9c74b898>"
      ]
     },
     "metadata": {},
     "output_type": "display_data"
    },
    {
     "data": {
      "image/png": "[encoded data removed]",
      "text/plain": [
       "<matplotlib.figure.Figure at 0x7fdb9c78f780>"
      ]
     },
     "metadata": {},
     "output_type": "display_data"
    },
    {
     "data": {
      "image/png": "[encoded data removed]",
      "text/plain": [
       "<matplotlib.figure.Figure at 0x7fdb9c6f6cc0>"
      ]
     },
     "metadata": {},
     "output_type": "display_data"
    }
   ],
   "source": [
    "import scipy\n",
    "\n",
    "X_test_custom = []\n",
    "y_test_custom = []\n",
    "\n",
    "for image_name in [12, 15, 17, 35, 39]:\n",
    "    im = scipy.ndimage.imread(\"test_images/\" + str(image_name) + \".jpg\")\n",
    "    im_label = image_name\n",
    "    \n",
    "    X_test_custom.append(im)\n",
    "    y_test_custom.append(im_label)\n",
    "    \n",
    "    \n",
    "    plt.figure(figsize=(1,1))\n",
    "    plt.title(\"Actual class \" + str(im_label) + \"(\" + get_sign_name(im_label) + \")\")\n",
    "    plt.imshow(im.squeeze(), cmap=\"gray\")\n",
    "    \n",
    "X_test_custom = np.array(X_test_custom)\n",
    "y_test_custom = np.array(y_test_custom)\n"
   ]
  },
  {
   "cell_type": "code",
   "execution_count": 40,
   "metadata": {
    "scrolled": true
   },
   "outputs": [
    {
     "name": "stderr",
     "output_type": "stream",
     "text": [
      "/home/q372283/anaconda3/lib/python3.5/site-packages/skimage/util/dtype.py:122: UserWarning: Possible precision loss when converting from float32 to uint16\n",
      "  .format(dtypeobj_in, dtypeobj_out))\n"
     ]
    }
   ],
   "source": [
    "X_test_custom_prep = preprocess_images(X_test_custom)"
   ]
  },
  {
   "cell_type": "markdown",
   "metadata": {},
   "source": [
    "### Predict the Sign Type for Each Image"
   ]
  },
  {
   "cell_type": "code",
   "execution_count": 30,
   "metadata": {
    "collapsed": true
   },
   "outputs": [],
   "source": [
    "### Run the predictions here and use the model to output the prediction for each image.\n",
    "### Make sure to pre-process the images with the same pre-processing pipeline used earlier.\n",
    "### Feel free to use as many code cells as needed."
   ]
  },
  {
   "cell_type": "code",
   "execution_count": 59,
   "metadata": {
    "collapsed": true
   },
   "outputs": [],
   "source": [
    "def evaluate_non_badge(X_data, y_data):\n",
    "\n",
    "    with tf.Session() as sess:\n",
    "        # Restore variables from disk.\n",
    "        saver.restore(sess, \"./lenet\")\n",
    "        print(\"Model restored.\")\n",
    "        \n",
    "        classification = sess.run(tf.argmax(logits, 1), feed_dict={x: X_data, y: y_data, keep_prob: 1.})\n",
    "        print(classification)"
   ]
  },
  {
   "cell_type": "code",
   "execution_count": 60,
   "metadata": {},
   "outputs": [
    {
     "name": "stdout",
     "output_type": "stream",
     "text": [
      "INFO:tensorflow:Restoring parameters from ./lenet\n"
     ]
    },
    {
     "ename": "TypeError",
     "evalue": "Cannot interpret feed_dict key as Tensor: The name 'save_1/Const:0' refers to a Tensor which does not exist. The operation, 'save_1/Const', does not exist in the graph.",
     "output_type": "error",
     "traceback": [
      "\u001b[0;31m---------------------------------------------------------------------------\u001b[0m",
      "\u001b[0;31mKeyError\u001b[0m                                  Traceback (most recent call last)",
      "\u001b[0;32mC:\\Program Files\\Anaconda3\\lib\\site-packages\\tensorflow\\python\\client\\session.py\u001b[0m in \u001b[0;36m_run\u001b[0;34m(self, handle, fetches, feed_dict, options, run_metadata)\u001b[0m\n\u001b[1;32m    941\u001b[0m             subfeed_t = self.graph.as_graph_element(subfeed, allow_tensor=True,\n\u001b[0;32m--> 942\u001b[0;31m                                                     allow_operation=False)\n\u001b[0m\u001b[1;32m    943\u001b[0m           \u001b[1;32mexcept\u001b[0m \u001b[0mException\u001b[0m \u001b[1;32mas\u001b[0m \u001b[0me\u001b[0m\u001b[1;33m:\u001b[0m\u001b[1;33m\u001b[0m\u001b[0m\n",
      "\u001b[0;32mC:\\Program Files\\Anaconda3\\lib\\site-packages\\tensorflow\\python\\framework\\ops.py\u001b[0m in \u001b[0;36mas_graph_element\u001b[0;34m(self, obj, allow_tensor, allow_operation)\u001b[0m\n\u001b[1;32m   2583\u001b[0m     \u001b[1;32mwith\u001b[0m \u001b[0mself\u001b[0m\u001b[1;33m.\u001b[0m\u001b[0m_lock\u001b[0m\u001b[1;33m:\u001b[0m\u001b[1;33m\u001b[0m\u001b[0m\n\u001b[0;32m-> 2584\u001b[0;31m       \u001b[1;32mreturn\u001b[0m \u001b[0mself\u001b[0m\u001b[1;33m.\u001b[0m\u001b[0m_as_graph_element_locked\u001b[0m\u001b[1;33m(\u001b[0m\u001b[0mobj\u001b[0m\u001b[1;33m,\u001b[0m \u001b[0mallow_tensor\u001b[0m\u001b[1;33m,\u001b[0m \u001b[0mallow_operation\u001b[0m\u001b[1;33m)\u001b[0m\u001b[1;33m\u001b[0m\u001b[0m\n\u001b[0m\u001b[1;32m   2585\u001b[0m \u001b[1;33m\u001b[0m\u001b[0m\n",
      "\u001b[0;32mC:\\Program Files\\Anaconda3\\lib\\site-packages\\tensorflow\\python\\framework\\ops.py\u001b[0m in \u001b[0;36m_as_graph_element_locked\u001b[0;34m(self, obj, allow_tensor, allow_operation)\u001b[0m\n\u001b[1;32m   2625\u001b[0m                          \u001b[1;34m\"exist. The operation, %s, does not exist in the \"\u001b[0m\u001b[1;33m\u001b[0m\u001b[0m\n\u001b[0;32m-> 2626\u001b[0;31m                          \"graph.\" % (repr(name), repr(op_name)))\n\u001b[0m\u001b[1;32m   2627\u001b[0m         \u001b[1;32mtry\u001b[0m\u001b[1;33m:\u001b[0m\u001b[1;33m\u001b[0m\u001b[0m\n",
      "\u001b[0;31mKeyError\u001b[0m: \"The name 'save_1/Const:0' refers to a Tensor which does not exist. The operation, 'save_1/Const', does not exist in the graph.\"",
      "\nDuring handling of the above exception, another exception occurred:\n",
      "\u001b[0;31mTypeError\u001b[0m                                 Traceback (most recent call last)",
      "\u001b[0;32m<ipython-input-60-1c2b85508846>\u001b[0m in \u001b[0;36m<module>\u001b[0;34m()\u001b[0m\n\u001b[0;32m----> 1\u001b[0;31m \u001b[0mevaluate_non_badge\u001b[0m\u001b[1;33m(\u001b[0m\u001b[0mX_test_custom_prep\u001b[0m\u001b[1;33m,\u001b[0m \u001b[0my_test_custom\u001b[0m\u001b[1;33m)\u001b[0m\u001b[1;33m\u001b[0m\u001b[0m\n\u001b[0m",
      "\u001b[0;32m<ipython-input-59-cfb6ab6efd8c>\u001b[0m in \u001b[0;36mevaluate_non_badge\u001b[0;34m(X_data, y_data)\u001b[0m\n\u001b[1;32m      3\u001b[0m     \u001b[1;32mwith\u001b[0m \u001b[0mtf\u001b[0m\u001b[1;33m.\u001b[0m\u001b[0mSession\u001b[0m\u001b[1;33m(\u001b[0m\u001b[1;33m)\u001b[0m \u001b[1;32mas\u001b[0m \u001b[0msess\u001b[0m\u001b[1;33m:\u001b[0m\u001b[1;33m\u001b[0m\u001b[0m\n\u001b[1;32m      4\u001b[0m         \u001b[1;31m# Restore variables from disk.\u001b[0m\u001b[1;33m\u001b[0m\u001b[1;33m\u001b[0m\u001b[0m\n\u001b[0;32m----> 5\u001b[0;31m         \u001b[0msaver\u001b[0m\u001b[1;33m.\u001b[0m\u001b[0mrestore\u001b[0m\u001b[1;33m(\u001b[0m\u001b[0msess\u001b[0m\u001b[1;33m,\u001b[0m \u001b[1;34m\"./lenet\"\u001b[0m\u001b[1;33m)\u001b[0m\u001b[1;33m\u001b[0m\u001b[0m\n\u001b[0m\u001b[1;32m      6\u001b[0m         \u001b[0mprint\u001b[0m\u001b[1;33m(\u001b[0m\u001b[1;34m\"Model restored.\"\u001b[0m\u001b[1;33m)\u001b[0m\u001b[1;33m\u001b[0m\u001b[0m\n\u001b[1;32m      7\u001b[0m         \u001b[1;31m# Do some work with the model\u001b[0m\u001b[1;33m\u001b[0m\u001b[1;33m\u001b[0m\u001b[0m\n",
      "\u001b[0;32mC:\\Program Files\\Anaconda3\\lib\\site-packages\\tensorflow\\python\\training\\saver.py\u001b[0m in \u001b[0;36mrestore\u001b[0;34m(self, sess, save_path)\u001b[0m\n\u001b[1;32m   1546\u001b[0m     \u001b[0mlogging\u001b[0m\u001b[1;33m.\u001b[0m\u001b[0minfo\u001b[0m\u001b[1;33m(\u001b[0m\u001b[1;34m\"Restoring parameters from %s\"\u001b[0m\u001b[1;33m,\u001b[0m \u001b[0msave_path\u001b[0m\u001b[1;33m)\u001b[0m\u001b[1;33m\u001b[0m\u001b[0m\n\u001b[1;32m   1547\u001b[0m     sess.run(self.saver_def.restore_op_name,\n\u001b[0;32m-> 1548\u001b[0;31m              {self.saver_def.filename_tensor_name: save_path})\n\u001b[0m\u001b[1;32m   1549\u001b[0m \u001b[1;33m\u001b[0m\u001b[0m\n\u001b[1;32m   1550\u001b[0m   \u001b[1;33m@\u001b[0m\u001b[0mstaticmethod\u001b[0m\u001b[1;33m\u001b[0m\u001b[0m\n",
      "\u001b[0;32mC:\\Program Files\\Anaconda3\\lib\\site-packages\\tensorflow\\python\\client\\session.py\u001b[0m in \u001b[0;36mrun\u001b[0;34m(self, fetches, feed_dict, options, run_metadata)\u001b[0m\n\u001b[1;32m    787\u001b[0m     \u001b[1;32mtry\u001b[0m\u001b[1;33m:\u001b[0m\u001b[1;33m\u001b[0m\u001b[0m\n\u001b[1;32m    788\u001b[0m       result = self._run(None, fetches, feed_dict, options_ptr,\n\u001b[0;32m--> 789\u001b[0;31m                          run_metadata_ptr)\n\u001b[0m\u001b[1;32m    790\u001b[0m       \u001b[1;32mif\u001b[0m \u001b[0mrun_metadata\u001b[0m\u001b[1;33m:\u001b[0m\u001b[1;33m\u001b[0m\u001b[0m\n\u001b[1;32m    791\u001b[0m         \u001b[0mproto_data\u001b[0m \u001b[1;33m=\u001b[0m \u001b[0mtf_session\u001b[0m\u001b[1;33m.\u001b[0m\u001b[0mTF_GetBuffer\u001b[0m\u001b[1;33m(\u001b[0m\u001b[0mrun_metadata_ptr\u001b[0m\u001b[1;33m)\u001b[0m\u001b[1;33m\u001b[0m\u001b[0m\n",
      "\u001b[0;32mC:\\Program Files\\Anaconda3\\lib\\site-packages\\tensorflow\\python\\client\\session.py\u001b[0m in \u001b[0;36m_run\u001b[0;34m(self, handle, fetches, feed_dict, options, run_metadata)\u001b[0m\n\u001b[1;32m    943\u001b[0m           \u001b[1;32mexcept\u001b[0m \u001b[0mException\u001b[0m \u001b[1;32mas\u001b[0m \u001b[0me\u001b[0m\u001b[1;33m:\u001b[0m\u001b[1;33m\u001b[0m\u001b[0m\n\u001b[1;32m    944\u001b[0m             raise TypeError('Cannot interpret feed_dict key as Tensor: '\n\u001b[0;32m--> 945\u001b[0;31m                             + e.args[0])\n\u001b[0m\u001b[1;32m    946\u001b[0m \u001b[1;33m\u001b[0m\u001b[0m\n\u001b[1;32m    947\u001b[0m           \u001b[1;32mif\u001b[0m \u001b[0misinstance\u001b[0m\u001b[1;33m(\u001b[0m\u001b[0msubfeed_val\u001b[0m\u001b[1;33m,\u001b[0m \u001b[0mops\u001b[0m\u001b[1;33m.\u001b[0m\u001b[0mTensor\u001b[0m\u001b[1;33m)\u001b[0m\u001b[1;33m:\u001b[0m\u001b[1;33m\u001b[0m\u001b[0m\n",
      "\u001b[0;31mTypeError\u001b[0m: Cannot interpret feed_dict key as Tensor: The name 'save_1/Const:0' refers to a Tensor which does not exist. The operation, 'save_1/Const', does not exist in the graph."
     ]
    }
   ],
   "source": [
    "evaluate_non_badge(X_test_custom_prep, y_test_custom)"
   ]
  },
  {
   "cell_type": "markdown",
   "metadata": {},
   "source": [
    "### Analyze Performance"
   ]
  },
  {
   "cell_type": "code",
   "execution_count": null,
   "metadata": {
    "collapsed": true
   },
   "outputs": [],
   "source": [
    "### Calculate the accuracy for these 5 new images. \n",
    "### For example, if the model predicted 1 out of 5 signs correctly, it's 20% accurate on these new images."
   ]
  },
  {
   "cell_type": "code",
   "execution_count": null,
   "metadata": {
    "collapsed": true
   },
   "outputs": [],
   "source": []
  },
  {
   "cell_type": "markdown",
   "metadata": {},
   "source": [
    "### Output Top 5 Softmax Probabilities For Each Image Found on the Web"
   ]
  },
  {
   "cell_type": "markdown",
   "metadata": {},
   "source": [
    "For each of the new images, print out the model's softmax probabilities to show the **certainty** of the model's predictions (limit the output to the top 5 probabilities for each image). [`tf.nn.top_k`](https://www.tensorflow.org/versions/r0.12/api_docs/python/nn.html#top_k) could prove helpful here. \n",
    "\n",
    "The example below demonstrates how tf.nn.top_k can be used to find the top k predictions for each image.\n",
    "\n",
    "`tf.nn.top_k` will return the values and indices (class ids) of the top k predictions. So if k=3, for each sign, it'll return the 3 largest probabilities (out of a possible 43) and the correspoding class ids.\n",
    "\n",
    "Take this numpy array as an example. The values in the array represent predictions. The array contains softmax probabilities for five candidate images with six possible classes. `tf.nn.top_k` is used to choose the three classes with the highest probability:\n",
    "\n",
    "```\n",
    "# (5, 6) array\n",
    "a = np.array([[ 0.24879643,  0.07032244,  0.12641572,  0.34763842,  0.07893497,\n",
    "         0.12789202],\n",
    "       [ 0.28086119,  0.27569815,  0.08594638,  0.0178669 ,  0.18063401,\n",
    "         0.15899337],\n",
    "       [ 0.26076848,  0.23664738,  0.08020603,  0.07001922,  0.1134371 ,\n",
    "         0.23892179],\n",
    "       [ 0.11943333,  0.29198961,  0.02605103,  0.26234032,  0.1351348 ,\n",
    "         0.16505091],\n",
    "       [ 0.09561176,  0.34396535,  0.0643941 ,  0.16240774,  0.24206137,\n",
    "         0.09155967]])\n",
    "```\n",
    "\n",
    "Running it through `sess.run(tf.nn.top_k(tf.constant(a), k=3))` produces:\n",
    "\n",
    "```\n",
    "TopKV2(values=array([[ 0.34763842,  0.24879643,  0.12789202],\n",
    "       [ 0.28086119,  0.27569815,  0.18063401],\n",
    "       [ 0.26076848,  0.23892179,  0.23664738],\n",
    "       [ 0.29198961,  0.26234032,  0.16505091],\n",
    "       [ 0.34396535,  0.24206137,  0.16240774]]), indices=array([[3, 0, 5],\n",
    "       [0, 1, 4],\n",
    "       [0, 5, 1],\n",
    "       [1, 3, 5],\n",
    "       [1, 4, 3]], dtype=int32))\n",
    "```\n",
    "\n",
    "Looking just at the first row we get `[ 0.34763842,  0.24879643,  0.12789202]`, you can confirm these are the 3 largest probabilities in `a`. You'll also notice `[3, 0, 5]` are the corresponding indices."
   ]
  },
  {
   "cell_type": "code",
   "execution_count": null,
   "metadata": {
    "collapsed": true
   },
   "outputs": [],
   "source": [
    "### Print out the top five softmax probabilities for the predictions on the German traffic sign images found on the web. \n",
    "### Feel free to use as many code cells as needed."
   ]
  },
  {
   "cell_type": "code",
   "execution_count": null,
   "metadata": {
    "collapsed": true
   },
   "outputs": [],
   "source": [
    "def get_top_k_pred(X, y, k = 5):\n",
    "    top_k_predictions = tf.nn.top_k(cross_entropy, k)\n",
    "    \n",
    "    num_examples = len(X)\n",
    "\n",
    "    sess = tf.get_default_session()\n",
    "\n",
    "    print(sess.run(top_k_predictions, feed_dict={x: X, y: y, keep_prob: 1}))"
   ]
  },
  {
   "cell_type": "code",
   "execution_count": null,
   "metadata": {
    "collapsed": true
   },
   "outputs": [],
   "source": [
    "get_top_k_pred(X_test_custom_prep, y_test_custom)"
   ]
  },
  {
   "cell_type": "markdown",
   "metadata": {},
   "source": [
    "### Project Writeup\n",
    "\n",
    "Once you have completed the code implementation, document your results in a project writeup using this [template](https://github.com/udacity/CarND-Traffic-Sign-Classifier-Project/blob/master/writeup_template.md) as a guide. The writeup can be in a markdown or pdf file. "
   ]
  },
  {
   "cell_type": "markdown",
   "metadata": {},
   "source": [
    "> **Note**: Once you have completed all of the code implementations and successfully answered each question above, you may finalize your work by exporting the iPython Notebook as an HTML document. You can do this by using the menu above and navigating to  \\n\",\n",
    "    \"**File -> Download as -> HTML (.html)**. Include the finished document along with this notebook as your submission."
   ]
  },
  {
   "cell_type": "markdown",
   "metadata": {},
   "source": [
    "---\n",
    "\n",
    "## Step 4 (Optional): Visualize the Neural Network's State with Test Images\n",
    "\n",
    " This Section is not required to complete but acts as an additional excersise for understaning the output of a neural network's weights. While neural networks can be a great learning device they are often referred to as a black box. We can understand what the weights of a neural network look like better by plotting their feature maps. After successfully training your neural network you can see what it's feature maps look like by plotting the output of the network's weight layers in response to a test stimuli image. From these plotted feature maps, it's possible to see what characteristics of an image the network finds interesting. For a sign, maybe the inner network feature maps react with high activation to the sign's boundary outline or to the contrast in the sign's painted symbol.\n",
    "\n",
    " Provided for you below is the function code that allows you to get the visualization output of any tensorflow weight layer you want. The inputs to the function should be a stimuli image, one used during training or a new one you provided, and then the tensorflow variable name that represents the layer's state during the training process, for instance if you wanted to see what the [LeNet lab's](https://classroom.udacity.com/nanodegrees/nd013/parts/fbf77062-5703-404e-b60c-95b78b2f3f9e/modules/6df7ae49-c61c-4bb2-a23e-6527e69209ec/lessons/601ae704-1035-4287-8b11-e2c2716217ad/concepts/d4aca031-508f-4e0b-b493-e7b706120f81) feature maps looked like for it's second convolutional layer you could enter conv2 as the tf_activation variable.\n",
    "\n",
    "For an example of what feature map outputs look like, check out NVIDIA's results in their paper [End-to-End Deep Learning for Self-Driving Cars](https://devblogs.nvidia.com/parallelforall/deep-learning-self-driving-cars/) in the section Visualization of internal CNN State. NVIDIA was able to show that their network's inner weights had high activations to road boundary lines by comparing feature maps from an image with a clear path to one without. Try experimenting with a similar test to show that your trained network's weights are looking for interesting features, whether it's looking at differences in feature maps from images with or without a sign, or even what feature maps look like in a trained network vs a completely untrained one on the same sign image.\n",
    "\n",
    "<figure>\n",
    " <img src=\"visualize_cnn.png\" width=\"380\" alt=\"Combined Image\" />\n",
    " <figcaption>\n",
    " <p></p> \n",
    " <p style=\"text-align: center;\"> Your output should look something like this (above)</p> \n",
    " </figcaption>\n",
    "</figure>\n",
    " <p></p> \n"
   ]
  },
  {
   "cell_type": "code",
   "execution_count": null,
   "metadata": {
    "collapsed": true
   },
   "outputs": [],
   "source": [
    "### Visualize your network's feature maps here.\n",
    "### Feel free to use as many code cells as needed.\n",
    "\n",
    "# image_input: the test image being fed into the network to produce the feature maps\n",
    "# tf_activation: should be a tf variable name used during your training procedure that represents the calculated state of a specific weight layer\n",
    "# activation_min/max: can be used to view the activation contrast in more detail, by default matplot sets min and max to the actual min and max values of the output\n",
    "# plt_num: used to plot out multiple different weight feature map sets on the same block, just extend the plt number for each new feature map entry\n",
    "\n",
    "def outputFeatureMap(image_input, tf_activation, activation_min=-1, activation_max=-1 ,plt_num=1):\n",
    "    # Here make sure to preprocess your image_input in a way your network expects\n",
    "    # with size, normalization, ect if needed\n",
    "    # image_input =\n",
    "    # Note: x should be the same name as your network's tensorflow data placeholder variable\n",
    "    # If you get an error tf_activation is not defined it may be having trouble accessing the variable from inside a function\n",
    "    activation = tf_activation.eval(session=sess,feed_dict={x : image_input})\n",
    "    featuremaps = activation.shape[3]\n",
    "    plt.figure(plt_num, figsize=(15,15))\n",
    "    for featuremap in range(featuremaps):\n",
    "        plt.subplot(6,8, featuremap+1) # sets the number of feature maps to show on each row and column\n",
    "        plt.title('FeatureMap ' + str(featuremap)) # displays the feature map number\n",
    "        if activation_min != -1 & activation_max != -1:\n",
    "            plt.imshow(activation[0,:,:, featuremap], interpolation=\"nearest\", vmin =activation_min, vmax=activation_max, cmap=\"gray\")\n",
    "        elif activation_max != -1:\n",
    "            plt.imshow(activation[0,:,:, featuremap], interpolation=\"nearest\", vmax=activation_max, cmap=\"gray\")\n",
    "        elif activation_min !=-1:\n",
    "            plt.imshow(activation[0,:,:, featuremap], interpolation=\"nearest\", vmin=activation_min, cmap=\"gray\")\n",
    "        else:\n",
    "            plt.imshow(activation[0,:,:, featuremap], interpolation=\"nearest\", cmap=\"gray\")"
   ]
  },
  {
   "cell_type": "markdown",
   "metadata": {},
   "source": [
    "## What to do to improve, TODO\n",
    "\n",
    "- experiment different network architectures\n",
    "- changes dimensions of LeNet\n",
    "- Tune Hyperparameters\n",
    "- Augment data by rotate, color, etc."
   ]
  },
  {
   "cell_type": "code",
   "execution_count": null,
   "metadata": {
    "collapsed": true
   },
   "outputs": [],
   "source": []
  }
 ],
 "metadata": {
  "anaconda-cloud": {},
  "kernelspec": {
   "display_name": "Python 3",
   "language": "python",
   "name": "python3"
  },
  "language_info": {
   "codemirror_mode": {
    "name": "ipython",
    "version": 3
   },
   "file_extension": ".py",
   "mimetype": "text/x-python",
   "name": "python",
   "nbconvert_exporter": "python",
   "pygments_lexer": "ipython3",
   "version": "3.5.4"
  }
 },
 "nbformat": 4,
 "nbformat_minor": 1
}
